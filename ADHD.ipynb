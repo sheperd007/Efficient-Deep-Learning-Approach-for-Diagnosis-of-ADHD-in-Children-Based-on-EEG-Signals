{
  "cells": [
    {
      "cell_type": "code",
      "execution_count": null,
      "metadata": {
        "colab": {
          "base_uri": "https://localhost:8080/"
        },
        "id": "5KKAD5voV-M1",
        "outputId": "42170be7-dffa-4f0b-8535-45588a911975"
      },
      "outputs": [
        {
          "output_type": "stream",
          "name": "stdout",
          "text": [
            "Mounted at /content/drive\n"
          ]
        }
      ],
      "source": [
        "from google.colab import drive\n",
        "drive.mount('/content/drive')"
      ]
    },
    {
      "cell_type": "code",
      "execution_count": null,
      "metadata": {
        "id": "U7dxU9h1fNOF"
      },
      "outputs": [],
      "source": [
        "import sys\n",
        "sys.path.append('/content/drive/MyDrive/adhd_dataset')"
      ]
    },
    {
      "cell_type": "code",
      "execution_count": null,
      "metadata": {
        "colab": {
          "base_uri": "https://localhost:8080/",
          "height": 1000
        },
        "id": "cIjX8wUI5i4s",
        "outputId": "01b1bac6-08f3-43bb-8324-9aac1542e44b"
      },
      "outputs": [
        {
          "output_type": "stream",
          "name": "stdout",
          "text": [
            "Collecting pandasql==0.7.1\n",
            "  Downloading pandasql-0.7.1.tar.gz (26 kB)\n",
            "  Preparing metadata (setup.py) ... \u001b[?25l\u001b[?25hdone\n",
            "Requirement already satisfied: numpy in /usr/local/lib/python3.10/dist-packages (from pandasql==0.7.1) (1.23.5)\n",
            "Requirement already satisfied: pandas in /usr/local/lib/python3.10/dist-packages (from pandasql==0.7.1) (1.5.3)\n",
            "Requirement already satisfied: sqlalchemy in /usr/local/lib/python3.10/dist-packages (from pandasql==0.7.1) (2.0.23)\n",
            "Requirement already satisfied: python-dateutil>=2.8.1 in /usr/local/lib/python3.10/dist-packages (from pandas->pandasql==0.7.1) (2.8.2)\n",
            "Requirement already satisfied: pytz>=2020.1 in /usr/local/lib/python3.10/dist-packages (from pandas->pandasql==0.7.1) (2023.3.post1)\n",
            "Requirement already satisfied: typing-extensions>=4.2.0 in /usr/local/lib/python3.10/dist-packages (from sqlalchemy->pandasql==0.7.1) (4.5.0)\n",
            "Requirement already satisfied: greenlet!=0.4.17 in /usr/local/lib/python3.10/dist-packages (from sqlalchemy->pandasql==0.7.1) (3.0.2)\n",
            "Requirement already satisfied: six>=1.5 in /usr/local/lib/python3.10/dist-packages (from python-dateutil>=2.8.1->pandas->pandasql==0.7.1) (1.16.0)\n",
            "Building wheels for collected packages: pandasql\n",
            "  Building wheel for pandasql (setup.py) ... \u001b[?25l\u001b[?25hdone\n",
            "  Created wheel for pandasql: filename=pandasql-0.7.1-py3-none-any.whl size=26963 sha256=5209072bce687a72550e6fff59041b52a4065ed8ccaf5d1a453c8c616c4e47ba\n",
            "  Stored in directory: /root/.cache/pip/wheels/f9/99/51/eee415a4428c5bd6048b8d685be7bdc385b7530100812918ce\n",
            "Successfully built pandasql\n",
            "Installing collected packages: pandasql\n",
            "  Attempting uninstall: pandasql\n",
            "    Found existing installation: pandasql 0.7.3\n",
            "    Uninstalling pandasql-0.7.3:\n",
            "      Successfully uninstalled pandasql-0.7.3\n",
            "Successfully installed pandasql-0.7.1\n"
          ]
        },
        {
          "output_type": "display_data",
          "data": {
            "application/vnd.colab-display-data+json": {
              "pip_warning": {
                "packages": [
                  "pandasql"
                ]
              }
            }
          },
          "metadata": {}
        },
        {
          "output_type": "stream",
          "name": "stdout",
          "text": [
            "Requirement already satisfied: mne in /usr/local/lib/python3.10/dist-packages (1.6.0)\n",
            "Requirement already satisfied: numpy>=1.21.2 in /usr/local/lib/python3.10/dist-packages (from mne) (1.23.5)\n",
            "Requirement already satisfied: scipy>=1.7.1 in /usr/local/lib/python3.10/dist-packages (from mne) (1.11.4)\n",
            "Requirement already satisfied: matplotlib>=3.5.0 in /usr/local/lib/python3.10/dist-packages (from mne) (3.7.1)\n",
            "Requirement already satisfied: tqdm in /usr/local/lib/python3.10/dist-packages (from mne) (4.66.1)\n",
            "Requirement already satisfied: pooch>=1.5 in /usr/local/lib/python3.10/dist-packages (from mne) (1.8.0)\n",
            "Requirement already satisfied: decorator in /usr/local/lib/python3.10/dist-packages (from mne) (4.4.2)\n",
            "Requirement already satisfied: packaging in /usr/local/lib/python3.10/dist-packages (from mne) (23.2)\n",
            "Requirement already satisfied: jinja2 in /usr/local/lib/python3.10/dist-packages (from mne) (3.1.2)\n",
            "Requirement already satisfied: lazy-loader>=0.3 in /usr/local/lib/python3.10/dist-packages (from mne) (0.3)\n",
            "Requirement already satisfied: defusedxml in /usr/local/lib/python3.10/dist-packages (from mne) (0.7.1)\n",
            "Requirement already satisfied: contourpy>=1.0.1 in /usr/local/lib/python3.10/dist-packages (from matplotlib>=3.5.0->mne) (1.2.0)\n",
            "Requirement already satisfied: cycler>=0.10 in /usr/local/lib/python3.10/dist-packages (from matplotlib>=3.5.0->mne) (0.12.1)\n",
            "Requirement already satisfied: fonttools>=4.22.0 in /usr/local/lib/python3.10/dist-packages (from matplotlib>=3.5.0->mne) (4.46.0)\n",
            "Requirement already satisfied: kiwisolver>=1.0.1 in /usr/local/lib/python3.10/dist-packages (from matplotlib>=3.5.0->mne) (1.4.5)\n",
            "Requirement already satisfied: pillow>=6.2.0 in /usr/local/lib/python3.10/dist-packages (from matplotlib>=3.5.0->mne) (9.4.0)\n",
            "Requirement already satisfied: pyparsing>=2.3.1 in /usr/local/lib/python3.10/dist-packages (from matplotlib>=3.5.0->mne) (3.1.1)\n",
            "Requirement already satisfied: python-dateutil>=2.7 in /usr/local/lib/python3.10/dist-packages (from matplotlib>=3.5.0->mne) (2.8.2)\n",
            "Requirement already satisfied: platformdirs>=2.5.0 in /usr/local/lib/python3.10/dist-packages (from pooch>=1.5->mne) (4.1.0)\n",
            "Requirement already satisfied: requests>=2.19.0 in /usr/local/lib/python3.10/dist-packages (from pooch>=1.5->mne) (2.31.0)\n",
            "Requirement already satisfied: MarkupSafe>=2.0 in /usr/local/lib/python3.10/dist-packages (from jinja2->mne) (2.1.3)\n",
            "Requirement already satisfied: six>=1.5 in /usr/local/lib/python3.10/dist-packages (from python-dateutil>=2.7->matplotlib>=3.5.0->mne) (1.16.0)\n",
            "Requirement already satisfied: charset-normalizer<4,>=2 in /usr/local/lib/python3.10/dist-packages (from requests>=2.19.0->pooch>=1.5->mne) (3.3.2)\n",
            "Requirement already satisfied: idna<4,>=2.5 in /usr/local/lib/python3.10/dist-packages (from requests>=2.19.0->pooch>=1.5->mne) (3.6)\n",
            "Requirement already satisfied: urllib3<3,>=1.21.1 in /usr/local/lib/python3.10/dist-packages (from requests>=2.19.0->pooch>=1.5->mne) (2.0.7)\n",
            "Requirement already satisfied: certifi>=2017.4.17 in /usr/local/lib/python3.10/dist-packages (from requests>=2.19.0->pooch>=1.5->mne) (2023.11.17)\n",
            "Requirement already satisfied: pymatreader in /usr/local/lib/python3.10/dist-packages (0.0.32)\n",
            "Requirement already satisfied: h5py in /usr/local/lib/python3.10/dist-packages (from pymatreader) (3.9.0)\n",
            "Requirement already satisfied: scipy!=1.7.0 in /usr/local/lib/python3.10/dist-packages (from pymatreader) (1.11.4)\n",
            "Requirement already satisfied: numpy in /usr/local/lib/python3.10/dist-packages (from pymatreader) (1.23.5)\n",
            "Requirement already satisfied: xmltodict in /usr/local/lib/python3.10/dist-packages (from pymatreader) (0.13.0)\n"
          ]
        }
      ],
      "source": [
        "!pip install pandasql==0.7.1\n",
        "!pip install mne\n",
        "!pip install pymatreader"
      ]
    },
    {
      "cell_type": "code",
      "execution_count": null,
      "metadata": {
        "id": "9CpEQRleU9Q-"
      },
      "outputs": [],
      "source": [
        "import scipy,mne\n",
        "import pandas as pd\n",
        "import numpy as np\n",
        "from scipy import signal\n",
        "import matplotlib.pyplot as plt\n",
        "import mne\n",
        "import io\n",
        "import tensorflow as tf\n",
        "import numpy as np\n",
        "import scipy.misc\n",
        "from tensorflow.keras.applications.resnet_v2 import ResNet50V2\n",
        "from tensorflow.keras.preprocessing import image\n",
        "from tensorflow.keras.applications.resnet_v2 import preprocess_input, decode_predictions\n",
        "from tensorflow.keras import layers\n",
        "from tensorflow.keras.layers import (Input, Add, Dense, Activation, ZeroPadding2D, BatchNormalization, Flatten,\n",
        "    Conv2D, AveragePooling2D, MaxPooling2D, GlobalMaxPooling2D, Dropout)\n",
        "from tensorflow.keras.models import Model, load_model\n",
        "from resnets_utils import *\n",
        "from tensorflow.keras.initializers import random_uniform, glorot_uniform, constant, identity\n",
        "from tensorflow.python.framework.ops import EagerTensor\n",
        "from matplotlib.pyplot import imshow\n",
        "import pandasql as ps\n",
        "\n",
        "\n",
        "\n",
        "from sklearn.model_selection import cross_validate\n",
        "from sklearn.metrics import confusion_matrix\n",
        "from sklearn.model_selection import cross_val_score\n",
        "from sklearn.model_selection import RepeatedStratifiedKFold\n",
        "from sklearn.metrics import confusion_matrix\n",
        "from sklearn import metrics\n",
        "from sklearn.model_selection import StratifiedKFold\n",
        "from sklearn.utils import shuffle\n",
        "\n",
        "#from test_utils import summary, comparator\n",
        "#import public_tests\n",
        "\n",
        "%matplotlib inline"
      ]
    },
    {
      "cell_type": "markdown",
      "metadata": {
        "id": "rIdoiG0mV1V0"
      },
      "source": [
        "#RGB Representation\n",
        "##ADHD Data"
      ]
    },
    {
      "cell_type": "code",
      "execution_count": null,
      "metadata": {
        "id": "STow3pXBVxg9"
      },
      "outputs": [],
      "source": [
        "import glob\n",
        "files=[]\n",
        "for name in glob.glob('/content/drive/MyDrive/adhd_dataset/ADHD_part1/*.set'):\n",
        "    files.append(name)\n",
        "for name in glob.glob('/content/drive/MyDrive/adhd_dataset/ADHD_part2/*.set'):\n",
        "    files.append(name)"
      ]
    },
    {
      "cell_type": "code",
      "execution_count": null,
      "metadata": {
        "id": "lbExatydWUI-"
      },
      "outputs": [],
      "source": [
        "# set frequency Bands\n",
        "frequencies=np.arange(4, 40, 2)"
      ]
    },
    {
      "cell_type": "code",
      "execution_count": null,
      "metadata": {
        "colab": {
          "base_uri": "https://localhost:8080/"
        },
        "id": "EJzsMH8SXfxV",
        "outputId": "2a8fe6f1-9dbd-48d8-c80a-1eb919015942"
      },
      "outputs": [
        {
          "output_type": "stream",
          "name": "stdout",
          "text": [
            "Reading /content/drive/MyDrive/adhd_dataset/ADHD_part1/v1p.fdt\n",
            "Not setting metadata\n",
            "188 matching events found\n",
            "No baseline correction applied\n",
            "0 projection items activated\n",
            "Loading data for 188 events and 256 original time points ...\n",
            "0 bad epochs dropped\n"
          ]
        },
        {
          "output_type": "stream",
          "name": "stderr",
          "text": [
            "[Parallel(n_jobs=-1)]: Using backend LokyBackend with 2 concurrent workers.\n",
            "[Parallel(n_jobs=-1)]: Done  16 tasks      | elapsed:    4.7s\n"
          ]
        },
        {
          "output_type": "stream",
          "name": "stdout",
          "text": [
            "Not setting metadata\n"
          ]
        },
        {
          "output_type": "stream",
          "name": "stderr",
          "text": [
            "[Parallel(n_jobs=-1)]: Done  19 out of  19 | elapsed:    5.1s finished\n"
          ]
        },
        {
          "output_type": "stream",
          "name": "stdout",
          "text": [
            "Reading /content/drive/MyDrive/adhd_dataset/ADHD_part1/v3p.fdt\n",
            "Not setting metadata\n",
            "521 matching events found\n",
            "No baseline correction applied\n",
            "0 projection items activated\n",
            "Loading data for 521 events and 256 original time points ...\n",
            "0 bad epochs dropped\n"
          ]
        },
        {
          "output_type": "stream",
          "name": "stderr",
          "text": [
            "[Parallel(n_jobs=-1)]: Using backend LokyBackend with 2 concurrent workers.\n",
            "[Parallel(n_jobs=-1)]: Done  16 tasks      | elapsed:   11.7s\n"
          ]
        },
        {
          "output_type": "stream",
          "name": "stdout",
          "text": [
            "Not setting metadata\n"
          ]
        },
        {
          "output_type": "stream",
          "name": "stderr",
          "text": [
            "[Parallel(n_jobs=-1)]: Done  19 out of  19 | elapsed:   13.4s finished\n"
          ]
        },
        {
          "output_type": "stream",
          "name": "stdout",
          "text": [
            "Reading /content/drive/MyDrive/adhd_dataset/ADHD_part1/v6p.fdt\n",
            "Not setting metadata\n",
            "271 matching events found\n",
            "No baseline correction applied\n",
            "0 projection items activated\n",
            "Loading data for 271 events and 256 original time points ...\n",
            "0 bad epochs dropped\n"
          ]
        },
        {
          "output_type": "stream",
          "name": "stderr",
          "text": [
            "[Parallel(n_jobs=-1)]: Using backend LokyBackend with 2 concurrent workers.\n",
            "[Parallel(n_jobs=-1)]: Done  16 tasks      | elapsed:    2.9s\n"
          ]
        },
        {
          "output_type": "stream",
          "name": "stdout",
          "text": [
            "Not setting metadata\n"
          ]
        },
        {
          "output_type": "stream",
          "name": "stderr",
          "text": [
            "[Parallel(n_jobs=-1)]: Done  19 out of  19 | elapsed:    3.5s finished\n"
          ]
        },
        {
          "output_type": "stream",
          "name": "stdout",
          "text": [
            "Reading /content/drive/MyDrive/adhd_dataset/ADHD_part1/v8p.fdt\n",
            "Not setting metadata\n",
            "243 matching events found\n",
            "No baseline correction applied\n",
            "0 projection items activated\n",
            "Loading data for 243 events and 256 original time points ...\n",
            "0 bad epochs dropped\n"
          ]
        },
        {
          "output_type": "stream",
          "name": "stderr",
          "text": [
            "[Parallel(n_jobs=-1)]: Using backend LokyBackend with 2 concurrent workers.\n",
            "[Parallel(n_jobs=-1)]: Done  16 tasks      | elapsed:    4.3s\n"
          ]
        },
        {
          "output_type": "stream",
          "name": "stdout",
          "text": [
            "Not setting metadata\n"
          ]
        },
        {
          "output_type": "stream",
          "name": "stderr",
          "text": [
            "[Parallel(n_jobs=-1)]: Done  19 out of  19 | elapsed:    4.6s finished\n"
          ]
        },
        {
          "output_type": "stream",
          "name": "stdout",
          "text": [
            "Reading /content/drive/MyDrive/adhd_dataset/ADHD_part1/v10p.fdt\n",
            "Not setting metadata\n",
            "220 matching events found\n",
            "No baseline correction applied\n",
            "0 projection items activated\n",
            "Loading data for 220 events and 256 original time points ...\n",
            "0 bad epochs dropped\n"
          ]
        },
        {
          "output_type": "stream",
          "name": "stderr",
          "text": [
            "[Parallel(n_jobs=-1)]: Using backend LokyBackend with 2 concurrent workers.\n",
            "[Parallel(n_jobs=-1)]: Done  16 tasks      | elapsed:    2.4s\n"
          ]
        },
        {
          "output_type": "stream",
          "name": "stdout",
          "text": [
            "Not setting metadata\n"
          ]
        },
        {
          "output_type": "stream",
          "name": "stderr",
          "text": [
            "[Parallel(n_jobs=-1)]: Done  19 out of  19 | elapsed:    2.8s finished\n"
          ]
        },
        {
          "output_type": "stream",
          "name": "stdout",
          "text": [
            "Reading /content/drive/MyDrive/adhd_dataset/ADHD_part1/v12p.fdt\n",
            "Not setting metadata\n",
            "272 matching events found\n",
            "No baseline correction applied\n",
            "0 projection items activated\n",
            "Loading data for 272 events and 256 original time points ...\n",
            "0 bad epochs dropped\n"
          ]
        },
        {
          "output_type": "stream",
          "name": "stderr",
          "text": [
            "[Parallel(n_jobs=-1)]: Using backend LokyBackend with 2 concurrent workers.\n",
            "[Parallel(n_jobs=-1)]: Done  16 tasks      | elapsed:    4.9s\n"
          ]
        },
        {
          "output_type": "stream",
          "name": "stdout",
          "text": [
            "Not setting metadata\n"
          ]
        },
        {
          "output_type": "stream",
          "name": "stderr",
          "text": [
            "[Parallel(n_jobs=-1)]: Done  19 out of  19 | elapsed:    5.8s finished\n"
          ]
        },
        {
          "output_type": "stream",
          "name": "stdout",
          "text": [
            "Reading /content/drive/MyDrive/adhd_dataset/ADHD_part1/v14p.fdt\n",
            "Not setting metadata\n",
            "271 matching events found\n",
            "No baseline correction applied\n",
            "0 projection items activated\n",
            "Loading data for 271 events and 256 original time points ...\n",
            "0 bad epochs dropped\n"
          ]
        },
        {
          "output_type": "stream",
          "name": "stderr",
          "text": [
            "[Parallel(n_jobs=-1)]: Using backend LokyBackend with 2 concurrent workers.\n",
            "[Parallel(n_jobs=-1)]: Done  16 tasks      | elapsed:    2.8s\n"
          ]
        },
        {
          "output_type": "stream",
          "name": "stdout",
          "text": [
            "Not setting metadata\n"
          ]
        },
        {
          "output_type": "stream",
          "name": "stderr",
          "text": [
            "[Parallel(n_jobs=-1)]: Done  19 out of  19 | elapsed:    3.4s finished\n"
          ]
        },
        {
          "output_type": "stream",
          "name": "stdout",
          "text": [
            "Reading /content/drive/MyDrive/adhd_dataset/ADHD_part1/v15p.fdt\n",
            "Not setting metadata\n",
            "672 matching events found\n",
            "No baseline correction applied\n",
            "0 projection items activated\n",
            "Loading data for 672 events and 256 original time points ...\n",
            "0 bad epochs dropped\n"
          ]
        },
        {
          "output_type": "stream",
          "name": "stderr",
          "text": [
            "[Parallel(n_jobs=-1)]: Using backend LokyBackend with 2 concurrent workers.\n",
            "[Parallel(n_jobs=-1)]: Done  16 tasks      | elapsed:   11.1s\n"
          ]
        },
        {
          "output_type": "stream",
          "name": "stdout",
          "text": [
            "Not setting metadata\n"
          ]
        },
        {
          "output_type": "stream",
          "name": "stderr",
          "text": [
            "[Parallel(n_jobs=-1)]: Done  19 out of  19 | elapsed:   13.4s finished\n"
          ]
        },
        {
          "output_type": "stream",
          "name": "stdout",
          "text": [
            "Reading /content/drive/MyDrive/adhd_dataset/ADHD_part1/v18p.fdt\n",
            "Not setting metadata\n",
            "387 matching events found\n",
            "No baseline correction applied\n",
            "0 projection items activated\n",
            "Loading data for 387 events and 256 original time points ...\n",
            "0 bad epochs dropped\n"
          ]
        },
        {
          "output_type": "stream",
          "name": "stderr",
          "text": [
            "[Parallel(n_jobs=-1)]: Using backend LokyBackend with 2 concurrent workers.\n",
            "[Parallel(n_jobs=-1)]: Done  16 tasks      | elapsed:    6.9s\n"
          ]
        },
        {
          "output_type": "stream",
          "name": "stdout",
          "text": [
            "Not setting metadata\n"
          ]
        },
        {
          "output_type": "stream",
          "name": "stderr",
          "text": [
            "[Parallel(n_jobs=-1)]: Done  19 out of  19 | elapsed:    8.1s finished\n"
          ]
        },
        {
          "output_type": "stream",
          "name": "stdout",
          "text": [
            "Reading /content/drive/MyDrive/adhd_dataset/ADHD_part1/v19p.fdt\n",
            "Not setting metadata\n",
            "357 matching events found\n",
            "No baseline correction applied\n",
            "0 projection items activated\n",
            "Loading data for 357 events and 256 original time points ...\n",
            "0 bad epochs dropped\n"
          ]
        },
        {
          "output_type": "stream",
          "name": "stderr",
          "text": [
            "[Parallel(n_jobs=-1)]: Using backend LokyBackend with 2 concurrent workers.\n",
            "[Parallel(n_jobs=-1)]: Done  16 tasks      | elapsed:    4.7s\n"
          ]
        },
        {
          "output_type": "stream",
          "name": "stdout",
          "text": [
            "Not setting metadata\n"
          ]
        },
        {
          "output_type": "stream",
          "name": "stderr",
          "text": [
            "[Parallel(n_jobs=-1)]: Done  19 out of  19 | elapsed:    5.9s finished\n"
          ]
        },
        {
          "output_type": "stream",
          "name": "stdout",
          "text": [
            "Reading /content/drive/MyDrive/adhd_dataset/ADHD_part1/v20p.fdt\n",
            "Not setting metadata\n",
            "549 matching events found\n",
            "No baseline correction applied\n",
            "0 projection items activated\n",
            "Loading data for 549 events and 256 original time points ...\n",
            "0 bad epochs dropped\n"
          ]
        },
        {
          "output_type": "stream",
          "name": "stderr",
          "text": [
            "[Parallel(n_jobs=-1)]: Using backend LokyBackend with 2 concurrent workers.\n",
            "[Parallel(n_jobs=-1)]: Done  16 tasks      | elapsed:    6.3s\n"
          ]
        },
        {
          "output_type": "stream",
          "name": "stdout",
          "text": [
            "Not setting metadata\n"
          ]
        },
        {
          "output_type": "stream",
          "name": "stderr",
          "text": [
            "[Parallel(n_jobs=-1)]: Done  19 out of  19 | elapsed:    8.0s finished\n"
          ]
        },
        {
          "output_type": "stream",
          "name": "stdout",
          "text": [
            "Reading /content/drive/MyDrive/adhd_dataset/ADHD_part1/v21p.fdt\n",
            "Not setting metadata\n",
            "255 matching events found\n",
            "No baseline correction applied\n",
            "0 projection items activated\n",
            "Loading data for 255 events and 256 original time points ...\n",
            "0 bad epochs dropped\n"
          ]
        },
        {
          "output_type": "stream",
          "name": "stderr",
          "text": [
            "[Parallel(n_jobs=-1)]: Using backend LokyBackend with 2 concurrent workers.\n",
            "[Parallel(n_jobs=-1)]: Done  16 tasks      | elapsed:    2.7s\n"
          ]
        },
        {
          "output_type": "stream",
          "name": "stdout",
          "text": [
            "Not setting metadata\n"
          ]
        },
        {
          "output_type": "stream",
          "name": "stderr",
          "text": [
            "[Parallel(n_jobs=-1)]: Done  19 out of  19 | elapsed:    3.2s finished\n"
          ]
        },
        {
          "output_type": "stream",
          "name": "stdout",
          "text": [
            "Reading /content/drive/MyDrive/adhd_dataset/ADHD_part1/v22p.fdt\n",
            "Not setting metadata\n",
            "186 matching events found\n",
            "No baseline correction applied\n",
            "0 projection items activated\n",
            "Loading data for 186 events and 256 original time points ...\n",
            "0 bad epochs dropped\n"
          ]
        },
        {
          "output_type": "stream",
          "name": "stderr",
          "text": [
            "[Parallel(n_jobs=-1)]: Using backend LokyBackend with 2 concurrent workers.\n",
            "[Parallel(n_jobs=-1)]: Done  16 tasks      | elapsed:    2.7s\n"
          ]
        },
        {
          "output_type": "stream",
          "name": "stdout",
          "text": [
            "Not setting metadata\n"
          ]
        },
        {
          "output_type": "stream",
          "name": "stderr",
          "text": [
            "[Parallel(n_jobs=-1)]: Done  19 out of  19 | elapsed:    3.1s finished\n"
          ]
        },
        {
          "output_type": "stream",
          "name": "stdout",
          "text": [
            "Reading /content/drive/MyDrive/adhd_dataset/ADHD_part1/v24p.fdt\n",
            "Not setting metadata\n",
            "253 matching events found\n",
            "No baseline correction applied\n",
            "0 projection items activated\n",
            "Loading data for 253 events and 256 original time points ...\n",
            "0 bad epochs dropped\n"
          ]
        },
        {
          "output_type": "stream",
          "name": "stderr",
          "text": [
            "[Parallel(n_jobs=-1)]: Using backend LokyBackend with 2 concurrent workers.\n",
            "[Parallel(n_jobs=-1)]: Done  16 tasks      | elapsed:    2.7s\n"
          ]
        },
        {
          "output_type": "stream",
          "name": "stdout",
          "text": [
            "Not setting metadata\n"
          ]
        },
        {
          "output_type": "stream",
          "name": "stderr",
          "text": [
            "[Parallel(n_jobs=-1)]: Done  19 out of  19 | elapsed:    3.2s finished\n"
          ]
        },
        {
          "output_type": "stream",
          "name": "stdout",
          "text": [
            "Reading /content/drive/MyDrive/adhd_dataset/ADHD_part1/v25p.fdt\n",
            "Not setting metadata\n",
            "151 matching events found\n",
            "No baseline correction applied\n",
            "0 projection items activated\n",
            "Loading data for 151 events and 256 original time points ...\n",
            "0 bad epochs dropped\n"
          ]
        },
        {
          "output_type": "stream",
          "name": "stderr",
          "text": [
            "[Parallel(n_jobs=-1)]: Using backend LokyBackend with 2 concurrent workers.\n",
            "[Parallel(n_jobs=-1)]: Done  16 tasks      | elapsed:    2.8s\n"
          ]
        },
        {
          "output_type": "stream",
          "name": "stdout",
          "text": [
            "Not setting metadata\n"
          ]
        },
        {
          "output_type": "stream",
          "name": "stderr",
          "text": [
            "[Parallel(n_jobs=-1)]: Done  19 out of  19 | elapsed:    3.2s finished\n"
          ]
        },
        {
          "output_type": "stream",
          "name": "stdout",
          "text": [
            "Reading /content/drive/MyDrive/adhd_dataset/ADHD_part1/v27p.fdt\n",
            "Not setting metadata\n",
            "448 matching events found\n",
            "No baseline correction applied\n",
            "0 projection items activated\n",
            "Loading data for 448 events and 256 original time points ...\n",
            "0 bad epochs dropped\n"
          ]
        },
        {
          "output_type": "stream",
          "name": "stderr",
          "text": [
            "[Parallel(n_jobs=-1)]: Using backend LokyBackend with 2 concurrent workers.\n",
            "[Parallel(n_jobs=-1)]: Done  16 tasks      | elapsed:    5.3s\n"
          ]
        },
        {
          "output_type": "stream",
          "name": "stdout",
          "text": [
            "Not setting metadata\n"
          ]
        },
        {
          "output_type": "stream",
          "name": "stderr",
          "text": [
            "[Parallel(n_jobs=-1)]: Done  19 out of  19 | elapsed:    6.2s finished\n"
          ]
        },
        {
          "output_type": "stream",
          "name": "stdout",
          "text": [
            "Reading /content/drive/MyDrive/adhd_dataset/ADHD_part1/v28p.fdt\n",
            "Not setting metadata\n",
            "428 matching events found\n",
            "No baseline correction applied\n",
            "0 projection items activated\n",
            "Loading data for 428 events and 256 original time points ...\n",
            "0 bad epochs dropped\n"
          ]
        },
        {
          "output_type": "stream",
          "name": "stderr",
          "text": [
            "[Parallel(n_jobs=-1)]: Using backend LokyBackend with 2 concurrent workers.\n",
            "[Parallel(n_jobs=-1)]: Done  16 tasks      | elapsed:    5.7s\n"
          ]
        },
        {
          "output_type": "stream",
          "name": "stdout",
          "text": [
            "Not setting metadata\n"
          ]
        },
        {
          "output_type": "stream",
          "name": "stderr",
          "text": [
            "[Parallel(n_jobs=-1)]: Done  19 out of  19 | elapsed:    6.6s finished\n"
          ]
        },
        {
          "output_type": "stream",
          "name": "stdout",
          "text": [
            "Reading /content/drive/MyDrive/adhd_dataset/ADHD_part1/v29p.fdt\n",
            "Not setting metadata\n",
            "375 matching events found\n",
            "No baseline correction applied\n",
            "0 projection items activated\n",
            "Loading data for 375 events and 256 original time points ...\n",
            "0 bad epochs dropped\n"
          ]
        },
        {
          "output_type": "stream",
          "name": "stderr",
          "text": [
            "[Parallel(n_jobs=-1)]: Using backend LokyBackend with 2 concurrent workers.\n",
            "[Parallel(n_jobs=-1)]: Done  16 tasks      | elapsed:    4.4s\n"
          ]
        },
        {
          "output_type": "stream",
          "name": "stdout",
          "text": [
            "Not setting metadata\n"
          ]
        },
        {
          "output_type": "stream",
          "name": "stderr",
          "text": [
            "[Parallel(n_jobs=-1)]: Done  19 out of  19 | elapsed:    5.2s finished\n"
          ]
        },
        {
          "output_type": "stream",
          "name": "stdout",
          "text": [
            "Reading /content/drive/MyDrive/adhd_dataset/ADHD_part1/v30p.fdt\n",
            "Not setting metadata\n",
            "335 matching events found\n",
            "No baseline correction applied\n",
            "0 projection items activated\n",
            "Loading data for 335 events and 256 original time points ...\n",
            "0 bad epochs dropped\n"
          ]
        },
        {
          "output_type": "stream",
          "name": "stderr",
          "text": [
            "[Parallel(n_jobs=-1)]: Using backend LokyBackend with 2 concurrent workers.\n",
            "[Parallel(n_jobs=-1)]: Done  16 tasks      | elapsed:    5.3s\n"
          ]
        },
        {
          "output_type": "stream",
          "name": "stdout",
          "text": [
            "Not setting metadata\n"
          ]
        },
        {
          "output_type": "stream",
          "name": "stderr",
          "text": [
            "[Parallel(n_jobs=-1)]: Done  19 out of  19 | elapsed:    5.9s finished\n"
          ]
        },
        {
          "output_type": "stream",
          "name": "stdout",
          "text": [
            "Reading /content/drive/MyDrive/adhd_dataset/ADHD_part1/v31p.fdt\n",
            "Not setting metadata\n",
            "179 matching events found\n",
            "No baseline correction applied\n",
            "0 projection items activated\n",
            "Loading data for 179 events and 256 original time points ...\n",
            "0 bad epochs dropped\n"
          ]
        },
        {
          "output_type": "stream",
          "name": "stderr",
          "text": [
            "[Parallel(n_jobs=-1)]: Using backend LokyBackend with 2 concurrent workers.\n",
            "[Parallel(n_jobs=-1)]: Done  16 tasks      | elapsed:    1.9s\n"
          ]
        },
        {
          "output_type": "stream",
          "name": "stdout",
          "text": [
            "Not setting metadata\n"
          ]
        },
        {
          "output_type": "stream",
          "name": "stderr",
          "text": [
            "[Parallel(n_jobs=-1)]: Done  19 out of  19 | elapsed:    2.3s finished\n"
          ]
        },
        {
          "output_type": "stream",
          "name": "stdout",
          "text": [
            "Reading /content/drive/MyDrive/adhd_dataset/ADHD_part1/v32p.fdt\n",
            "Not setting metadata\n",
            "279 matching events found\n",
            "No baseline correction applied\n",
            "0 projection items activated\n",
            "Loading data for 279 events and 256 original time points ...\n",
            "0 bad epochs dropped\n"
          ]
        },
        {
          "output_type": "stream",
          "name": "stderr",
          "text": [
            "[Parallel(n_jobs=-1)]: Using backend LokyBackend with 2 concurrent workers.\n",
            "[Parallel(n_jobs=-1)]: Done  16 tasks      | elapsed:    4.7s\n"
          ]
        },
        {
          "output_type": "stream",
          "name": "stdout",
          "text": [
            "Not setting metadata\n"
          ]
        },
        {
          "output_type": "stream",
          "name": "stderr",
          "text": [
            "[Parallel(n_jobs=-1)]: Done  19 out of  19 | elapsed:    5.3s finished\n"
          ]
        },
        {
          "output_type": "stream",
          "name": "stdout",
          "text": [
            "Reading /content/drive/MyDrive/adhd_dataset/ADHD_part1/v33p.fdt\n",
            "Not setting metadata\n",
            "453 matching events found\n",
            "No baseline correction applied\n",
            "0 projection items activated\n",
            "Loading data for 453 events and 256 original time points ...\n",
            "0 bad epochs dropped\n"
          ]
        },
        {
          "output_type": "stream",
          "name": "stderr",
          "text": [
            "[Parallel(n_jobs=-1)]: Using backend LokyBackend with 2 concurrent workers.\n",
            "[Parallel(n_jobs=-1)]: Done  16 tasks      | elapsed:    6.2s\n"
          ]
        },
        {
          "output_type": "stream",
          "name": "stdout",
          "text": [
            "Not setting metadata\n"
          ]
        },
        {
          "output_type": "stream",
          "name": "stderr",
          "text": [
            "[Parallel(n_jobs=-1)]: Done  19 out of  19 | elapsed:    7.7s finished\n"
          ]
        },
        {
          "output_type": "stream",
          "name": "stdout",
          "text": [
            "Reading /content/drive/MyDrive/adhd_dataset/ADHD_part1/v34p.fdt\n",
            "Not setting metadata\n",
            "302 matching events found\n",
            "No baseline correction applied\n",
            "0 projection items activated\n",
            "Loading data for 302 events and 256 original time points ...\n",
            "0 bad epochs dropped\n"
          ]
        },
        {
          "output_type": "stream",
          "name": "stderr",
          "text": [
            "[Parallel(n_jobs=-1)]: Using backend LokyBackend with 2 concurrent workers.\n",
            "[Parallel(n_jobs=-1)]: Done  16 tasks      | elapsed:    3.2s\n"
          ]
        },
        {
          "output_type": "stream",
          "name": "stdout",
          "text": [
            "Not setting metadata\n"
          ]
        },
        {
          "output_type": "stream",
          "name": "stderr",
          "text": [
            "[Parallel(n_jobs=-1)]: Done  19 out of  19 | elapsed:    3.9s finished\n"
          ]
        },
        {
          "output_type": "stream",
          "name": "stdout",
          "text": [
            "Reading /content/drive/MyDrive/adhd_dataset/ADHD_part1/v35p.fdt\n",
            "Not setting metadata\n",
            "236 matching events found\n",
            "No baseline correction applied\n",
            "0 projection items activated\n",
            "Loading data for 236 events and 256 original time points ...\n",
            "0 bad epochs dropped\n"
          ]
        },
        {
          "output_type": "stream",
          "name": "stderr",
          "text": [
            "[Parallel(n_jobs=-1)]: Using backend LokyBackend with 2 concurrent workers.\n",
            "[Parallel(n_jobs=-1)]: Done  16 tasks      | elapsed:    2.7s\n"
          ]
        },
        {
          "output_type": "stream",
          "name": "stdout",
          "text": [
            "Not setting metadata\n"
          ]
        },
        {
          "output_type": "stream",
          "name": "stderr",
          "text": [
            "[Parallel(n_jobs=-1)]: Done  19 out of  19 | elapsed:    3.2s finished\n"
          ]
        },
        {
          "output_type": "stream",
          "name": "stdout",
          "text": [
            "Reading /content/drive/MyDrive/adhd_dataset/ADHD_part1/v36p.fdt\n",
            "Not setting metadata\n",
            "268 matching events found\n",
            "No baseline correction applied\n",
            "0 projection items activated\n",
            "Loading data for 268 events and 256 original time points ...\n",
            "0 bad epochs dropped\n"
          ]
        },
        {
          "output_type": "stream",
          "name": "stderr",
          "text": [
            "[Parallel(n_jobs=-1)]: Using backend LokyBackend with 2 concurrent workers.\n",
            "[Parallel(n_jobs=-1)]: Done  16 tasks      | elapsed:    2.8s\n"
          ]
        },
        {
          "output_type": "stream",
          "name": "stdout",
          "text": [
            "Not setting metadata\n"
          ]
        },
        {
          "output_type": "stream",
          "name": "stderr",
          "text": [
            "[Parallel(n_jobs=-1)]: Done  19 out of  19 | elapsed:    3.3s finished\n"
          ]
        },
        {
          "output_type": "stream",
          "name": "stdout",
          "text": [
            "Reading /content/drive/MyDrive/adhd_dataset/ADHD_part1/v37p.fdt\n",
            "Not setting metadata\n",
            "142 matching events found\n",
            "No baseline correction applied\n",
            "0 projection items activated\n",
            "Loading data for 142 events and 256 original time points ...\n",
            "0 bad epochs dropped\n"
          ]
        },
        {
          "output_type": "stream",
          "name": "stderr",
          "text": [
            "[Parallel(n_jobs=-1)]: Using backend LokyBackend with 2 concurrent workers.\n",
            "[Parallel(n_jobs=-1)]: Done  16 tasks      | elapsed:    2.3s\n"
          ]
        },
        {
          "output_type": "stream",
          "name": "stdout",
          "text": [
            "Not setting metadata\n"
          ]
        },
        {
          "output_type": "stream",
          "name": "stderr",
          "text": [
            "[Parallel(n_jobs=-1)]: Done  19 out of  19 | elapsed:    2.5s finished\n"
          ]
        },
        {
          "output_type": "stream",
          "name": "stdout",
          "text": [
            "Reading /content/drive/MyDrive/adhd_dataset/ADHD_part1/v38p.fdt\n",
            "Not setting metadata\n",
            "382 matching events found\n",
            "No baseline correction applied\n",
            "0 projection items activated\n",
            "Loading data for 382 events and 256 original time points ...\n",
            "0 bad epochs dropped\n"
          ]
        },
        {
          "output_type": "stream",
          "name": "stderr",
          "text": [
            "[Parallel(n_jobs=-1)]: Using backend LokyBackend with 2 concurrent workers.\n",
            "[Parallel(n_jobs=-1)]: Done  16 tasks      | elapsed:    4.1s\n"
          ]
        },
        {
          "output_type": "stream",
          "name": "stdout",
          "text": [
            "Not setting metadata\n"
          ]
        },
        {
          "output_type": "stream",
          "name": "stderr",
          "text": [
            "[Parallel(n_jobs=-1)]: Done  19 out of  19 | elapsed:    4.9s finished\n"
          ]
        },
        {
          "output_type": "stream",
          "name": "stdout",
          "text": [
            "Reading /content/drive/MyDrive/adhd_dataset/ADHD_part1/v39p.fdt\n",
            "Not setting metadata\n",
            "281 matching events found\n",
            "No baseline correction applied\n",
            "0 projection items activated\n",
            "Loading data for 281 events and 256 original time points ...\n",
            "0 bad epochs dropped\n"
          ]
        },
        {
          "output_type": "stream",
          "name": "stderr",
          "text": [
            "[Parallel(n_jobs=-1)]: Using backend LokyBackend with 2 concurrent workers.\n",
            "[Parallel(n_jobs=-1)]: Done  16 tasks      | elapsed:    3.0s\n"
          ]
        },
        {
          "output_type": "stream",
          "name": "stdout",
          "text": [
            "Not setting metadata\n"
          ]
        },
        {
          "output_type": "stream",
          "name": "stderr",
          "text": [
            "[Parallel(n_jobs=-1)]: Done  19 out of  19 | elapsed:    3.6s finished\n"
          ]
        },
        {
          "output_type": "stream",
          "name": "stdout",
          "text": [
            "Reading /content/drive/MyDrive/adhd_dataset/ADHD_part1/v40p.fdt\n",
            "Not setting metadata\n",
            "311 matching events found\n",
            "No baseline correction applied\n",
            "0 projection items activated\n",
            "Loading data for 311 events and 256 original time points ...\n",
            "0 bad epochs dropped\n"
          ]
        },
        {
          "output_type": "stream",
          "name": "stderr",
          "text": [
            "[Parallel(n_jobs=-1)]: Using backend LokyBackend with 2 concurrent workers.\n",
            "[Parallel(n_jobs=-1)]: Done  16 tasks      | elapsed:    4.7s\n"
          ]
        },
        {
          "output_type": "stream",
          "name": "stdout",
          "text": [
            "Not setting metadata\n"
          ]
        },
        {
          "output_type": "stream",
          "name": "stderr",
          "text": [
            "[Parallel(n_jobs=-1)]: Done  19 out of  19 | elapsed:    5.8s finished\n"
          ]
        },
        {
          "output_type": "stream",
          "name": "stdout",
          "text": [
            "Reading /content/drive/MyDrive/adhd_dataset/ADHD_part1/v173p.fdt\n",
            "Not setting metadata\n",
            "375 matching events found\n",
            "No baseline correction applied\n",
            "0 projection items activated\n",
            "Loading data for 375 events and 256 original time points ...\n",
            "0 bad epochs dropped\n"
          ]
        },
        {
          "output_type": "stream",
          "name": "stderr",
          "text": [
            "[Parallel(n_jobs=-1)]: Using backend LokyBackend with 2 concurrent workers.\n",
            "[Parallel(n_jobs=-1)]: Done  16 tasks      | elapsed:    4.0s\n"
          ]
        },
        {
          "output_type": "stream",
          "name": "stdout",
          "text": [
            "Not setting metadata\n"
          ]
        },
        {
          "output_type": "stream",
          "name": "stderr",
          "text": [
            "[Parallel(n_jobs=-1)]: Done  19 out of  19 | elapsed:    4.8s finished\n"
          ]
        },
        {
          "output_type": "stream",
          "name": "stdout",
          "text": [
            "Reading /content/drive/MyDrive/adhd_dataset/ADHD_part2/v177p.fdt\n",
            "Not setting metadata\n",
            "257 matching events found\n",
            "No baseline correction applied\n",
            "0 projection items activated\n",
            "Loading data for 257 events and 256 original time points ...\n",
            "0 bad epochs dropped\n"
          ]
        },
        {
          "output_type": "stream",
          "name": "stderr",
          "text": [
            "[Parallel(n_jobs=-1)]: Using backend LokyBackend with 2 concurrent workers.\n",
            "[Parallel(n_jobs=-1)]: Done  16 tasks      | elapsed:    3.0s\n"
          ]
        },
        {
          "output_type": "stream",
          "name": "stdout",
          "text": [
            "Not setting metadata\n"
          ]
        },
        {
          "output_type": "stream",
          "name": "stderr",
          "text": [
            "[Parallel(n_jobs=-1)]: Done  19 out of  19 | elapsed:    3.4s finished\n"
          ]
        },
        {
          "output_type": "stream",
          "name": "stdout",
          "text": [
            "Reading /content/drive/MyDrive/adhd_dataset/ADHD_part2/v179p.fdt\n",
            "Not setting metadata\n",
            "195 matching events found\n",
            "No baseline correction applied\n",
            "0 projection items activated\n",
            "Loading data for 195 events and 256 original time points ...\n",
            "0 bad epochs dropped\n"
          ]
        },
        {
          "output_type": "stream",
          "name": "stderr",
          "text": [
            "[Parallel(n_jobs=-1)]: Using backend LokyBackend with 2 concurrent workers.\n",
            "[Parallel(n_jobs=-1)]: Done  16 tasks      | elapsed:    2.1s\n"
          ]
        },
        {
          "output_type": "stream",
          "name": "stdout",
          "text": [
            "Not setting metadata\n"
          ]
        },
        {
          "output_type": "stream",
          "name": "stderr",
          "text": [
            "[Parallel(n_jobs=-1)]: Done  19 out of  19 | elapsed:    2.5s finished\n"
          ]
        },
        {
          "output_type": "stream",
          "name": "stdout",
          "text": [
            "Reading /content/drive/MyDrive/adhd_dataset/ADHD_part2/v181p.fdt\n",
            "Not setting metadata\n",
            "163 matching events found\n",
            "No baseline correction applied\n",
            "0 projection items activated\n",
            "Loading data for 163 events and 256 original time points ...\n",
            "0 bad epochs dropped\n"
          ]
        },
        {
          "output_type": "stream",
          "name": "stderr",
          "text": [
            "[Parallel(n_jobs=-1)]: Using backend LokyBackend with 2 concurrent workers.\n",
            "[Parallel(n_jobs=-1)]: Done  16 tasks      | elapsed:    2.7s\n"
          ]
        },
        {
          "output_type": "stream",
          "name": "stdout",
          "text": [
            "Not setting metadata\n"
          ]
        },
        {
          "output_type": "stream",
          "name": "stderr",
          "text": [
            "[Parallel(n_jobs=-1)]: Done  19 out of  19 | elapsed:    3.3s finished\n"
          ]
        },
        {
          "output_type": "stream",
          "name": "stdout",
          "text": [
            "Reading /content/drive/MyDrive/adhd_dataset/ADHD_part2/v183p.fdt\n",
            "Not setting metadata\n",
            "287 matching events found\n",
            "No baseline correction applied\n",
            "0 projection items activated\n",
            "Loading data for 287 events and 256 original time points ...\n",
            "0 bad epochs dropped\n"
          ]
        },
        {
          "output_type": "stream",
          "name": "stderr",
          "text": [
            "[Parallel(n_jobs=-1)]: Using backend LokyBackend with 2 concurrent workers.\n",
            "[Parallel(n_jobs=-1)]: Done  16 tasks      | elapsed:    3.0s\n"
          ]
        },
        {
          "output_type": "stream",
          "name": "stdout",
          "text": [
            "Not setting metadata\n"
          ]
        },
        {
          "output_type": "stream",
          "name": "stderr",
          "text": [
            "[Parallel(n_jobs=-1)]: Done  19 out of  19 | elapsed:    3.6s finished\n"
          ]
        },
        {
          "output_type": "stream",
          "name": "stdout",
          "text": [
            "Reading /content/drive/MyDrive/adhd_dataset/ADHD_part2/v190p.fdt\n",
            "Not setting metadata\n",
            "238 matching events found\n",
            "No baseline correction applied\n",
            "0 projection items activated\n",
            "Loading data for 238 events and 256 original time points ...\n",
            "0 bad epochs dropped\n"
          ]
        },
        {
          "output_type": "stream",
          "name": "stderr",
          "text": [
            "[Parallel(n_jobs=-1)]: Using backend LokyBackend with 2 concurrent workers.\n",
            "[Parallel(n_jobs=-1)]: Done  16 tasks      | elapsed:    4.2s\n"
          ]
        },
        {
          "output_type": "stream",
          "name": "stdout",
          "text": [
            "Not setting metadata\n"
          ]
        },
        {
          "output_type": "stream",
          "name": "stderr",
          "text": [
            "[Parallel(n_jobs=-1)]: Done  19 out of  19 | elapsed:    4.8s finished\n"
          ]
        },
        {
          "output_type": "stream",
          "name": "stdout",
          "text": [
            "Reading /content/drive/MyDrive/adhd_dataset/ADHD_part2/v196p.fdt\n",
            "Not setting metadata\n",
            "206 matching events found\n",
            "No baseline correction applied\n",
            "0 projection items activated\n",
            "Loading data for 206 events and 256 original time points ...\n",
            "0 bad epochs dropped\n"
          ]
        },
        {
          "output_type": "stream",
          "name": "stderr",
          "text": [
            "[Parallel(n_jobs=-1)]: Using backend LokyBackend with 2 concurrent workers.\n",
            "[Parallel(n_jobs=-1)]: Done  16 tasks      | elapsed:    2.2s\n"
          ]
        },
        {
          "output_type": "stream",
          "name": "stdout",
          "text": [
            "Not setting metadata\n"
          ]
        },
        {
          "output_type": "stream",
          "name": "stderr",
          "text": [
            "[Parallel(n_jobs=-1)]: Done  19 out of  19 | elapsed:    2.6s finished\n"
          ]
        },
        {
          "output_type": "stream",
          "name": "stdout",
          "text": [
            "Reading /content/drive/MyDrive/adhd_dataset/ADHD_part2/v198p.fdt\n",
            "Not setting metadata\n",
            "303 matching events found\n",
            "No baseline correction applied\n",
            "0 projection items activated\n",
            "Loading data for 303 events and 256 original time points ...\n",
            "0 bad epochs dropped\n"
          ]
        },
        {
          "output_type": "stream",
          "name": "stderr",
          "text": [
            "[Parallel(n_jobs=-1)]: Using backend LokyBackend with 2 concurrent workers.\n",
            "[Parallel(n_jobs=-1)]: Done  16 tasks      | elapsed:    3.9s\n"
          ]
        },
        {
          "output_type": "stream",
          "name": "stdout",
          "text": [
            "Not setting metadata\n"
          ]
        },
        {
          "output_type": "stream",
          "name": "stderr",
          "text": [
            "[Parallel(n_jobs=-1)]: Done  19 out of  19 | elapsed:    4.9s finished\n"
          ]
        },
        {
          "output_type": "stream",
          "name": "stdout",
          "text": [
            "Reading /content/drive/MyDrive/adhd_dataset/ADHD_part2/v200p.fdt\n",
            "Not setting metadata\n",
            "196 matching events found\n",
            "No baseline correction applied\n",
            "0 projection items activated\n",
            "Loading data for 196 events and 256 original time points ...\n",
            "0 bad epochs dropped\n"
          ]
        },
        {
          "output_type": "stream",
          "name": "stderr",
          "text": [
            "[Parallel(n_jobs=-1)]: Using backend LokyBackend with 2 concurrent workers.\n",
            "[Parallel(n_jobs=-1)]: Done  16 tasks      | elapsed:    2.1s\n"
          ]
        },
        {
          "output_type": "stream",
          "name": "stdout",
          "text": [
            "Not setting metadata\n"
          ]
        },
        {
          "output_type": "stream",
          "name": "stderr",
          "text": [
            "[Parallel(n_jobs=-1)]: Done  19 out of  19 | elapsed:    2.5s finished\n"
          ]
        },
        {
          "output_type": "stream",
          "name": "stdout",
          "text": [
            "Reading /content/drive/MyDrive/adhd_dataset/ADHD_part2/v204p.fdt\n",
            "Not setting metadata\n",
            "316 matching events found\n",
            "No baseline correction applied\n",
            "0 projection items activated\n",
            "Loading data for 316 events and 256 original time points ...\n",
            "0 bad epochs dropped\n"
          ]
        },
        {
          "output_type": "stream",
          "name": "stderr",
          "text": [
            "[Parallel(n_jobs=-1)]: Using backend LokyBackend with 2 concurrent workers.\n",
            "[Parallel(n_jobs=-1)]: Done  16 tasks      | elapsed:    4.0s\n"
          ]
        },
        {
          "output_type": "stream",
          "name": "stdout",
          "text": [
            "Not setting metadata\n"
          ]
        },
        {
          "output_type": "stream",
          "name": "stderr",
          "text": [
            "[Parallel(n_jobs=-1)]: Done  19 out of  19 | elapsed:    5.0s finished\n"
          ]
        },
        {
          "output_type": "stream",
          "name": "stdout",
          "text": [
            "Reading /content/drive/MyDrive/adhd_dataset/ADHD_part2/v206p.fdt\n",
            "Not setting metadata\n",
            "312 matching events found\n",
            "No baseline correction applied\n",
            "0 projection items activated\n",
            "Loading data for 312 events and 256 original time points ...\n",
            "0 bad epochs dropped\n"
          ]
        },
        {
          "output_type": "stream",
          "name": "stderr",
          "text": [
            "[Parallel(n_jobs=-1)]: Using backend LokyBackend with 2 concurrent workers.\n",
            "[Parallel(n_jobs=-1)]: Done  16 tasks      | elapsed:    3.4s\n"
          ]
        },
        {
          "output_type": "stream",
          "name": "stdout",
          "text": [
            "Not setting metadata\n"
          ]
        },
        {
          "output_type": "stream",
          "name": "stderr",
          "text": [
            "[Parallel(n_jobs=-1)]: Done  19 out of  19 | elapsed:    4.1s finished\n"
          ]
        },
        {
          "output_type": "stream",
          "name": "stdout",
          "text": [
            "Reading /content/drive/MyDrive/adhd_dataset/ADHD_part2/v209p.fdt\n",
            "Not setting metadata\n",
            "470 matching events found\n",
            "No baseline correction applied\n",
            "0 projection items activated\n",
            "Loading data for 470 events and 256 original time points ...\n",
            "0 bad epochs dropped\n"
          ]
        },
        {
          "output_type": "stream",
          "name": "stderr",
          "text": [
            "[Parallel(n_jobs=-1)]: Using backend LokyBackend with 2 concurrent workers.\n",
            "[Parallel(n_jobs=-1)]: Done  16 tasks      | elapsed:    7.4s\n"
          ]
        },
        {
          "output_type": "stream",
          "name": "stdout",
          "text": [
            "Not setting metadata\n"
          ]
        },
        {
          "output_type": "stream",
          "name": "stderr",
          "text": [
            "[Parallel(n_jobs=-1)]: Done  19 out of  19 | elapsed:    8.5s finished\n"
          ]
        },
        {
          "output_type": "stream",
          "name": "stdout",
          "text": [
            "Reading /content/drive/MyDrive/adhd_dataset/ADHD_part2/v213p.fdt\n",
            "Not setting metadata\n",
            "190 matching events found\n",
            "No baseline correction applied\n",
            "0 projection items activated\n",
            "Loading data for 190 events and 256 original time points ...\n",
            "0 bad epochs dropped\n"
          ]
        },
        {
          "output_type": "stream",
          "name": "stderr",
          "text": [
            "[Parallel(n_jobs=-1)]: Using backend LokyBackend with 2 concurrent workers.\n",
            "[Parallel(n_jobs=-1)]: Done  16 tasks      | elapsed:    3.3s\n"
          ]
        },
        {
          "output_type": "stream",
          "name": "stdout",
          "text": [
            "Not setting metadata\n"
          ]
        },
        {
          "output_type": "stream",
          "name": "stderr",
          "text": [
            "[Parallel(n_jobs=-1)]: Done  19 out of  19 | elapsed:    4.0s finished\n"
          ]
        },
        {
          "output_type": "stream",
          "name": "stdout",
          "text": [
            "Reading /content/drive/MyDrive/adhd_dataset/ADHD_part2/v215p.fdt\n",
            "Not setting metadata\n",
            "330 matching events found\n",
            "No baseline correction applied\n",
            "0 projection items activated\n",
            "Loading data for 330 events and 256 original time points ...\n",
            "0 bad epochs dropped\n"
          ]
        },
        {
          "output_type": "stream",
          "name": "stderr",
          "text": [
            "[Parallel(n_jobs=-1)]: Using backend LokyBackend with 2 concurrent workers.\n",
            "[Parallel(n_jobs=-1)]: Done  16 tasks      | elapsed:    3.7s\n"
          ]
        },
        {
          "output_type": "stream",
          "name": "stdout",
          "text": [
            "Not setting metadata\n"
          ]
        },
        {
          "output_type": "stream",
          "name": "stderr",
          "text": [
            "[Parallel(n_jobs=-1)]: Done  19 out of  19 | elapsed:    4.3s finished\n"
          ]
        },
        {
          "output_type": "stream",
          "name": "stdout",
          "text": [
            "Reading /content/drive/MyDrive/adhd_dataset/ADHD_part2/v219p.fdt\n",
            "Not setting metadata\n",
            "421 matching events found\n",
            "No baseline correction applied\n",
            "0 projection items activated\n",
            "Loading data for 421 events and 256 original time points ...\n",
            "0 bad epochs dropped\n"
          ]
        },
        {
          "output_type": "stream",
          "name": "stderr",
          "text": [
            "[Parallel(n_jobs=-1)]: Using backend LokyBackend with 2 concurrent workers.\n",
            "[Parallel(n_jobs=-1)]: Done  16 tasks      | elapsed:    6.1s\n"
          ]
        },
        {
          "output_type": "stream",
          "name": "stdout",
          "text": [
            "Not setting metadata\n"
          ]
        },
        {
          "output_type": "stream",
          "name": "stderr",
          "text": [
            "[Parallel(n_jobs=-1)]: Done  19 out of  19 | elapsed:    7.0s finished\n"
          ]
        },
        {
          "output_type": "stream",
          "name": "stdout",
          "text": [
            "Reading /content/drive/MyDrive/adhd_dataset/ADHD_part2/v227p.fdt\n",
            "Not setting metadata\n",
            "435 matching events found\n",
            "No baseline correction applied\n",
            "0 projection items activated\n",
            "Loading data for 435 events and 256 original time points ...\n",
            "0 bad epochs dropped\n"
          ]
        },
        {
          "output_type": "stream",
          "name": "stderr",
          "text": [
            "[Parallel(n_jobs=-1)]: Using backend LokyBackend with 2 concurrent workers.\n",
            "[Parallel(n_jobs=-1)]: Done  16 tasks      | elapsed:    7.9s\n"
          ]
        },
        {
          "output_type": "stream",
          "name": "stdout",
          "text": [
            "Not setting metadata\n"
          ]
        },
        {
          "output_type": "stream",
          "name": "stderr",
          "text": [
            "[Parallel(n_jobs=-1)]: Done  19 out of  19 | elapsed:    8.7s finished\n"
          ]
        },
        {
          "output_type": "stream",
          "name": "stdout",
          "text": [
            "Reading /content/drive/MyDrive/adhd_dataset/ADHD_part2/v231p.fdt\n",
            "Not setting metadata\n",
            "305 matching events found\n",
            "No baseline correction applied\n",
            "0 projection items activated\n",
            "Loading data for 305 events and 256 original time points ...\n",
            "0 bad epochs dropped\n"
          ]
        },
        {
          "output_type": "stream",
          "name": "stderr",
          "text": [
            "[Parallel(n_jobs=-1)]: Using backend LokyBackend with 2 concurrent workers.\n",
            "[Parallel(n_jobs=-1)]: Done  16 tasks      | elapsed:    4.8s\n"
          ]
        },
        {
          "output_type": "stream",
          "name": "stdout",
          "text": [
            "Not setting metadata\n"
          ]
        },
        {
          "output_type": "stream",
          "name": "stderr",
          "text": [
            "[Parallel(n_jobs=-1)]: Done  19 out of  19 | elapsed:    5.7s finished\n"
          ]
        },
        {
          "output_type": "stream",
          "name": "stdout",
          "text": [
            "Reading /content/drive/MyDrive/adhd_dataset/ADHD_part2/v234p.fdt\n",
            "Not setting metadata\n",
            "531 matching events found\n",
            "No baseline correction applied\n",
            "0 projection items activated\n",
            "Loading data for 531 events and 256 original time points ...\n",
            "0 bad epochs dropped\n"
          ]
        },
        {
          "output_type": "stream",
          "name": "stderr",
          "text": [
            "[Parallel(n_jobs=-1)]: Using backend LokyBackend with 2 concurrent workers.\n",
            "[Parallel(n_jobs=-1)]: Done  16 tasks      | elapsed:    5.8s\n"
          ]
        },
        {
          "output_type": "stream",
          "name": "stdout",
          "text": [
            "Not setting metadata\n"
          ]
        },
        {
          "output_type": "stream",
          "name": "stderr",
          "text": [
            "[Parallel(n_jobs=-1)]: Done  19 out of  19 | elapsed:    7.2s finished\n"
          ]
        },
        {
          "output_type": "stream",
          "name": "stdout",
          "text": [
            "Reading /content/drive/MyDrive/adhd_dataset/ADHD_part2/v236p.fdt\n",
            "Not setting metadata\n",
            "207 matching events found\n",
            "No baseline correction applied\n",
            "0 projection items activated\n",
            "Loading data for 207 events and 256 original time points ...\n",
            "0 bad epochs dropped\n"
          ]
        },
        {
          "output_type": "stream",
          "name": "stderr",
          "text": [
            "[Parallel(n_jobs=-1)]: Using backend LokyBackend with 2 concurrent workers.\n",
            "[Parallel(n_jobs=-1)]: Done  16 tasks      | elapsed:    2.2s\n"
          ]
        },
        {
          "output_type": "stream",
          "name": "stdout",
          "text": [
            "Not setting metadata\n"
          ]
        },
        {
          "output_type": "stream",
          "name": "stderr",
          "text": [
            "[Parallel(n_jobs=-1)]: Done  19 out of  19 | elapsed:    2.6s finished\n"
          ]
        },
        {
          "output_type": "stream",
          "name": "stdout",
          "text": [
            "Reading /content/drive/MyDrive/adhd_dataset/ADHD_part2/v238p.fdt\n",
            "Not setting metadata\n",
            "150 matching events found\n",
            "No baseline correction applied\n",
            "0 projection items activated\n",
            "Loading data for 150 events and 256 original time points ...\n",
            "0 bad epochs dropped\n"
          ]
        },
        {
          "output_type": "stream",
          "name": "stderr",
          "text": [
            "[Parallel(n_jobs=-1)]: Using backend LokyBackend with 2 concurrent workers.\n",
            "[Parallel(n_jobs=-1)]: Done  16 tasks      | elapsed:    2.6s\n"
          ]
        },
        {
          "output_type": "stream",
          "name": "stdout",
          "text": [
            "Not setting metadata\n"
          ]
        },
        {
          "output_type": "stream",
          "name": "stderr",
          "text": [
            "[Parallel(n_jobs=-1)]: Done  19 out of  19 | elapsed:    3.0s finished\n"
          ]
        },
        {
          "output_type": "stream",
          "name": "stdout",
          "text": [
            "Reading /content/drive/MyDrive/adhd_dataset/ADHD_part2/v244p.fdt\n",
            "Not setting metadata\n",
            "606 matching events found\n",
            "No baseline correction applied\n",
            "0 projection items activated\n",
            "Loading data for 606 events and 256 original time points ...\n",
            "0 bad epochs dropped\n"
          ]
        },
        {
          "output_type": "stream",
          "name": "stderr",
          "text": [
            "[Parallel(n_jobs=-1)]: Using backend LokyBackend with 2 concurrent workers.\n",
            "[Parallel(n_jobs=-1)]: Done  16 tasks      | elapsed:    7.7s\n",
            "[Parallel(n_jobs=-1)]: Done  19 out of  19 | elapsed:   10.0s finished\n"
          ]
        },
        {
          "output_type": "stream",
          "name": "stdout",
          "text": [
            "Not setting metadata\n",
            "Reading /content/drive/MyDrive/adhd_dataset/ADHD_part2/v246p.fdt\n",
            "Not setting metadata\n",
            "329 matching events found\n",
            "No baseline correction applied\n",
            "0 projection items activated\n",
            "Loading data for 329 events and 256 original time points ...\n",
            "0 bad epochs dropped\n"
          ]
        },
        {
          "output_type": "stream",
          "name": "stderr",
          "text": [
            "[Parallel(n_jobs=-1)]: Using backend LokyBackend with 2 concurrent workers.\n",
            "[Parallel(n_jobs=-1)]: Done  16 tasks      | elapsed:    5.6s\n"
          ]
        },
        {
          "output_type": "stream",
          "name": "stdout",
          "text": [
            "Not setting metadata\n"
          ]
        },
        {
          "output_type": "stream",
          "name": "stderr",
          "text": [
            "[Parallel(n_jobs=-1)]: Done  19 out of  19 | elapsed:    6.5s finished\n"
          ]
        },
        {
          "output_type": "stream",
          "name": "stdout",
          "text": [
            "Reading /content/drive/MyDrive/adhd_dataset/ADHD_part2/v250p.fdt\n",
            "Not setting metadata\n",
            "213 matching events found\n",
            "No baseline correction applied\n",
            "0 projection items activated\n",
            "Loading data for 213 events and 256 original time points ...\n",
            "0 bad epochs dropped\n"
          ]
        },
        {
          "output_type": "stream",
          "name": "stderr",
          "text": [
            "[Parallel(n_jobs=-1)]: Using backend LokyBackend with 2 concurrent workers.\n",
            "[Parallel(n_jobs=-1)]: Done  16 tasks      | elapsed:    3.4s\n"
          ]
        },
        {
          "output_type": "stream",
          "name": "stdout",
          "text": [
            "Not setting metadata\n"
          ]
        },
        {
          "output_type": "stream",
          "name": "stderr",
          "text": [
            "[Parallel(n_jobs=-1)]: Done  19 out of  19 | elapsed:    3.8s finished\n"
          ]
        },
        {
          "output_type": "stream",
          "name": "stdout",
          "text": [
            "Reading /content/drive/MyDrive/adhd_dataset/ADHD_part2/v254p.fdt\n",
            "Not setting metadata\n",
            "160 matching events found\n",
            "No baseline correction applied\n",
            "0 projection items activated\n",
            "Loading data for 160 events and 256 original time points ...\n",
            "0 bad epochs dropped\n"
          ]
        },
        {
          "output_type": "stream",
          "name": "stderr",
          "text": [
            "[Parallel(n_jobs=-1)]: Using backend LokyBackend with 2 concurrent workers.\n",
            "[Parallel(n_jobs=-1)]: Done  16 tasks      | elapsed:    2.8s\n"
          ]
        },
        {
          "output_type": "stream",
          "name": "stdout",
          "text": [
            "Not setting metadata\n"
          ]
        },
        {
          "output_type": "stream",
          "name": "stderr",
          "text": [
            "[Parallel(n_jobs=-1)]: Done  19 out of  19 | elapsed:    3.2s finished\n"
          ]
        },
        {
          "output_type": "stream",
          "name": "stdout",
          "text": [
            "Reading /content/drive/MyDrive/adhd_dataset/ADHD_part2/v263p.fdt\n",
            "Not setting metadata\n",
            "288 matching events found\n",
            "No baseline correction applied\n",
            "0 projection items activated\n",
            "Loading data for 288 events and 256 original time points ...\n",
            "0 bad epochs dropped\n"
          ]
        },
        {
          "output_type": "stream",
          "name": "stderr",
          "text": [
            "[Parallel(n_jobs=-1)]: Using backend LokyBackend with 2 concurrent workers.\n",
            "[Parallel(n_jobs=-1)]: Done  16 tasks      | elapsed:    3.1s\n"
          ]
        },
        {
          "output_type": "stream",
          "name": "stdout",
          "text": [
            "Not setting metadata\n"
          ]
        },
        {
          "output_type": "stream",
          "name": "stderr",
          "text": [
            "[Parallel(n_jobs=-1)]: Done  19 out of  19 | elapsed:    3.7s finished\n"
          ]
        },
        {
          "output_type": "stream",
          "name": "stdout",
          "text": [
            "Reading /content/drive/MyDrive/adhd_dataset/ADHD_part2/v265p.fdt\n",
            "Not setting metadata\n",
            "284 matching events found\n",
            "No baseline correction applied\n",
            "0 projection items activated\n",
            "Loading data for 284 events and 256 original time points ...\n",
            "0 bad epochs dropped\n"
          ]
        },
        {
          "output_type": "stream",
          "name": "stderr",
          "text": [
            "[Parallel(n_jobs=-1)]: Using backend LokyBackend with 2 concurrent workers.\n",
            "[Parallel(n_jobs=-1)]: Done  16 tasks      | elapsed:    4.9s\n"
          ]
        },
        {
          "output_type": "stream",
          "name": "stdout",
          "text": [
            "Not setting metadata\n"
          ]
        },
        {
          "output_type": "stream",
          "name": "stderr",
          "text": [
            "[Parallel(n_jobs=-1)]: Done  19 out of  19 | elapsed:    5.8s finished\n"
          ]
        },
        {
          "output_type": "stream",
          "name": "stdout",
          "text": [
            "Reading /content/drive/MyDrive/adhd_dataset/ADHD_part2/v270p.fdt\n",
            "Not setting metadata\n",
            "367 matching events found\n",
            "No baseline correction applied\n",
            "0 projection items activated\n",
            "Loading data for 367 events and 256 original time points ...\n",
            "0 bad epochs dropped\n"
          ]
        },
        {
          "output_type": "stream",
          "name": "stderr",
          "text": [
            "[Parallel(n_jobs=-1)]: Using backend LokyBackend with 2 concurrent workers.\n",
            "[Parallel(n_jobs=-1)]: Done  16 tasks      | elapsed:    4.0s\n"
          ]
        },
        {
          "output_type": "stream",
          "name": "stdout",
          "text": [
            "Not setting metadata\n"
          ]
        },
        {
          "output_type": "stream",
          "name": "stderr",
          "text": [
            "[Parallel(n_jobs=-1)]: Done  19 out of  19 | elapsed:    4.7s finished\n"
          ]
        },
        {
          "output_type": "stream",
          "name": "stdout",
          "text": [
            "Reading /content/drive/MyDrive/adhd_dataset/ADHD_part2/v274p.fdt\n",
            "Not setting metadata\n",
            "267 matching events found\n",
            "No baseline correction applied\n",
            "0 projection items activated\n",
            "Loading data for 267 events and 256 original time points ...\n",
            "0 bad epochs dropped\n"
          ]
        },
        {
          "output_type": "stream",
          "name": "stderr",
          "text": [
            "[Parallel(n_jobs=-1)]: Using backend LokyBackend with 2 concurrent workers.\n",
            "[Parallel(n_jobs=-1)]: Done  16 tasks      | elapsed:    2.8s\n"
          ]
        },
        {
          "output_type": "stream",
          "name": "stdout",
          "text": [
            "Not setting metadata\n"
          ]
        },
        {
          "output_type": "stream",
          "name": "stderr",
          "text": [
            "[Parallel(n_jobs=-1)]: Done  19 out of  19 | elapsed:    3.3s finished\n"
          ]
        },
        {
          "output_type": "stream",
          "name": "stdout",
          "text": [
            "Reading /content/drive/MyDrive/adhd_dataset/ADHD_part2/v279p.fdt\n",
            "Not setting metadata\n",
            "311 matching events found\n",
            "No baseline correction applied\n",
            "0 projection items activated\n",
            "Loading data for 311 events and 256 original time points ...\n",
            "0 bad epochs dropped\n"
          ]
        },
        {
          "output_type": "stream",
          "name": "stderr",
          "text": [
            "[Parallel(n_jobs=-1)]: Using backend LokyBackend with 2 concurrent workers.\n",
            "[Parallel(n_jobs=-1)]: Done  16 tasks      | elapsed:    3.9s\n"
          ]
        },
        {
          "output_type": "stream",
          "name": "stdout",
          "text": [
            "Not setting metadata\n"
          ]
        },
        {
          "output_type": "stream",
          "name": "stderr",
          "text": [
            "[Parallel(n_jobs=-1)]: Done  19 out of  19 | elapsed:    5.0s finished\n"
          ]
        },
        {
          "output_type": "stream",
          "name": "stdout",
          "text": [
            "Reading /content/drive/MyDrive/adhd_dataset/ADHD_part2/v284p.fdt\n",
            "Not setting metadata\n",
            "237 matching events found\n",
            "No baseline correction applied\n",
            "0 projection items activated\n",
            "Loading data for 237 events and 256 original time points ...\n",
            "0 bad epochs dropped\n"
          ]
        },
        {
          "output_type": "stream",
          "name": "stderr",
          "text": [
            "[Parallel(n_jobs=-1)]: Using backend LokyBackend with 2 concurrent workers.\n",
            "[Parallel(n_jobs=-1)]: Done  16 tasks      | elapsed:    2.6s\n"
          ]
        },
        {
          "output_type": "stream",
          "name": "stdout",
          "text": [
            "Not setting metadata\n"
          ]
        },
        {
          "output_type": "stream",
          "name": "stderr",
          "text": [
            "[Parallel(n_jobs=-1)]: Done  19 out of  19 | elapsed:    3.0s finished\n"
          ]
        },
        {
          "output_type": "stream",
          "name": "stdout",
          "text": [
            "Reading /content/drive/MyDrive/adhd_dataset/ADHD_part2/v286p.fdt\n",
            "Not setting metadata\n",
            "176 matching events found\n",
            "No baseline correction applied\n",
            "0 projection items activated\n",
            "Loading data for 176 events and 256 original time points ...\n",
            "0 bad epochs dropped\n"
          ]
        },
        {
          "output_type": "stream",
          "name": "stderr",
          "text": [
            "[Parallel(n_jobs=-1)]: Using backend LokyBackend with 2 concurrent workers.\n",
            "[Parallel(n_jobs=-1)]: Done  16 tasks      | elapsed:    2.1s\n"
          ]
        },
        {
          "output_type": "stream",
          "name": "stdout",
          "text": [
            "Not setting metadata\n"
          ]
        },
        {
          "output_type": "stream",
          "name": "stderr",
          "text": [
            "[Parallel(n_jobs=-1)]: Done  19 out of  19 | elapsed:    2.7s finished\n"
          ]
        },
        {
          "output_type": "stream",
          "name": "stdout",
          "text": [
            "Reading /content/drive/MyDrive/adhd_dataset/ADHD_part2/v288p.fdt\n",
            "Not setting metadata\n",
            "311 matching events found\n",
            "No baseline correction applied\n",
            "0 projection items activated\n",
            "Loading data for 311 events and 256 original time points ...\n",
            "0 bad epochs dropped\n"
          ]
        },
        {
          "output_type": "stream",
          "name": "stderr",
          "text": [
            "[Parallel(n_jobs=-1)]: Using backend LokyBackend with 2 concurrent workers.\n",
            "[Parallel(n_jobs=-1)]: Done  16 tasks      | elapsed:    4.0s\n"
          ]
        },
        {
          "output_type": "stream",
          "name": "stdout",
          "text": [
            "Not setting metadata\n"
          ]
        },
        {
          "output_type": "stream",
          "name": "stderr",
          "text": [
            "[Parallel(n_jobs=-1)]: Done  19 out of  19 | elapsed:    4.7s finished\n"
          ]
        }
      ],
      "source": [
        "# read dataset and seperate person and segment\n",
        "genereted_images=list()\n",
        "person=0\n",
        "segment_variable = 0\n",
        "condition = 0\n",
        "segment=[]\n",
        "Z=[]\n",
        "con = 20\n",
        "for i in files:\n",
        "    person += 1\n",
        "    raw=mne.io.read_raw_eeglab(i)\n",
        "    epochs = mne.make_fixed_length_epochs(raw, duration=2, preload=False,overlap=1.5)\n",
        "    power = mne.time_frequency.tfr_morlet(epochs, n_cycles=5, return_itc=False,\n",
        "                                      freqs=frequencies, average = False, n_jobs=-1)\n",
        "\n",
        "    theta=power.to_data_frame()[(4 <= power.to_data_frame()[\"freq\"]) & (power.to_data_frame()[\"freq\"]  <= 8)].drop(columns=[\"condition\"])\n",
        "\n",
        "    alpha=power.to_data_frame()[(8 < power.to_data_frame()[\"freq\"]) & (power.to_data_frame()[\"freq\"]  <= 12)].drop(columns=[\"condition\"])\n",
        "\n",
        "    beta_gamma=power.to_data_frame()[(12 < power.to_data_frame()[\"freq\"]) & (power.to_data_frame()[\"freq\"]  <= 40)].drop(columns=[\"condition\"])\n",
        "\n",
        "    theta=theta.groupby([\"epoch\",\"time\"]).agg(\"mean\")\n",
        "    alpha=alpha.groupby([\"epoch\",\"time\"]).agg(\"mean\")\n",
        "    beta_gamma=beta_gamma.groupby([\"epoch\",\"time\"]).agg(\"mean\")\n",
        "    for j in range(np.max(theta.reset_index().epoch)+1):\n",
        "        red=np.array(theta.loc[j].drop(columns=[\"freq\"]).T)\n",
        "        green=np.array(alpha.loc[j].drop(columns=[\"freq\"]).T)\n",
        "        blue=np.array(beta_gamma.loc[j].drop(columns=[\"freq\"]).T)\n",
        "        image=np.concatenate((red[:, :, np.newaxis],green[:, :, np.newaxis],blue[:, :, np.newaxis]),axis=2)\n",
        "        Z.append(person)\n",
        "        image=(image-np.min(image))/(np.max(image)-np.min(image))\n",
        "        genereted_images.append(image)\n",
        "        segment.append(segment_variable)\n",
        "        condition += 1\n",
        "        if condition >= con:\n",
        "            segment_variable += 1\n",
        "            condition = 0\n",
        "        if condition <= con and j == np.max(theta.reset_index().epoch):\n",
        "            segment_variable += 1\n",
        "            condition = 0"
      ]
    },
    {
      "cell_type": "code",
      "execution_count": null,
      "metadata": {
        "id": "Msg_Ym9QXsJ0"
      },
      "outputs": [],
      "source": [
        "Y=np.repeat(1,len(genereted_images))"
      ]
    },
    {
      "cell_type": "markdown",
      "metadata": {
        "id": "4QbHXQ94X4z0"
      },
      "source": [
        "##Control Dataset"
      ]
    },
    {
      "cell_type": "code",
      "execution_count": null,
      "metadata": {
        "id": "vCbYQpFZX5pc"
      },
      "outputs": [],
      "source": [
        "import glob\n",
        "files=[]\n",
        "for name in glob.glob('/content/drive/MyDrive/adhd_dataset/Control_part1/*.set'):\n",
        "    files.append(name)\n",
        "for name in glob.glob('/content/drive/MyDrive/adhd_dataset/Control_part2/*.set'):\n",
        "    files.append(name)"
      ]
    },
    {
      "cell_type": "code",
      "execution_count": null,
      "metadata": {
        "colab": {
          "base_uri": "https://localhost:8080/"
        },
        "id": "2ubx7q1oX_Pd",
        "outputId": "492e532c-bb21-4cb0-b052-81dd90d58014"
      },
      "outputs": [
        {
          "output_type": "stream",
          "name": "stdout",
          "text": [
            "Reading /content/drive/MyDrive/adhd_dataset/Control_part1/v41p.fdt\n",
            "Not setting metadata\n",
            "192 matching events found\n",
            "No baseline correction applied\n",
            "0 projection items activated\n",
            "Loading data for 192 events and 256 original time points ...\n",
            "0 bad epochs dropped\n"
          ]
        },
        {
          "output_type": "stream",
          "name": "stderr",
          "text": [
            "[Parallel(n_jobs=-1)]: Using backend LokyBackend with 2 concurrent workers.\n",
            "[Parallel(n_jobs=-1)]: Done  16 tasks      | elapsed:    2.0s\n"
          ]
        },
        {
          "output_type": "stream",
          "name": "stdout",
          "text": [
            "Not setting metadata\n"
          ]
        },
        {
          "output_type": "stream",
          "name": "stderr",
          "text": [
            "[Parallel(n_jobs=-1)]: Done  19 out of  19 | elapsed:    2.6s finished\n"
          ]
        },
        {
          "output_type": "stream",
          "name": "stdout",
          "text": [
            "62\n",
            "Reading /content/drive/MyDrive/adhd_dataset/Control_part1/v42p.fdt\n",
            "Not setting metadata\n",
            "258 matching events found\n",
            "No baseline correction applied\n",
            "0 projection items activated\n",
            "Loading data for 258 events and 256 original time points ...\n",
            "0 bad epochs dropped\n"
          ]
        },
        {
          "output_type": "stream",
          "name": "stderr",
          "text": [
            "[Parallel(n_jobs=-1)]: Using backend LokyBackend with 2 concurrent workers.\n",
            "[Parallel(n_jobs=-1)]: Done  16 tasks      | elapsed:    3.6s\n"
          ]
        },
        {
          "output_type": "stream",
          "name": "stdout",
          "text": [
            "Not setting metadata\n"
          ]
        },
        {
          "output_type": "stream",
          "name": "stderr",
          "text": [
            "[Parallel(n_jobs=-1)]: Done  19 out of  19 | elapsed:    4.0s finished\n"
          ]
        },
        {
          "output_type": "stream",
          "name": "stdout",
          "text": [
            "63\n",
            "Reading /content/drive/MyDrive/adhd_dataset/Control_part1/v43p.fdt\n",
            "Not setting metadata\n",
            "196 matching events found\n",
            "No baseline correction applied\n",
            "0 projection items activated\n",
            "Loading data for 196 events and 256 original time points ...\n",
            "0 bad epochs dropped\n"
          ]
        },
        {
          "output_type": "stream",
          "name": "stderr",
          "text": [
            "[Parallel(n_jobs=-1)]: Using backend LokyBackend with 2 concurrent workers.\n",
            "[Parallel(n_jobs=-1)]: Done  16 tasks      | elapsed:    2.1s\n"
          ]
        },
        {
          "output_type": "stream",
          "name": "stdout",
          "text": [
            "Not setting metadata\n"
          ]
        },
        {
          "output_type": "stream",
          "name": "stderr",
          "text": [
            "[Parallel(n_jobs=-1)]: Done  19 out of  19 | elapsed:    2.5s finished\n"
          ]
        },
        {
          "output_type": "stream",
          "name": "stdout",
          "text": [
            "64\n",
            "Reading /content/drive/MyDrive/adhd_dataset/Control_part1/v44p.fdt\n",
            "Not setting metadata\n",
            "175 matching events found\n",
            "No baseline correction applied\n",
            "0 projection items activated\n",
            "Loading data for 175 events and 256 original time points ...\n",
            "0 bad epochs dropped\n"
          ]
        },
        {
          "output_type": "stream",
          "name": "stderr",
          "text": [
            "[Parallel(n_jobs=-1)]: Using backend LokyBackend with 2 concurrent workers.\n",
            "[Parallel(n_jobs=-1)]: Done  16 tasks      | elapsed:    3.1s\n"
          ]
        },
        {
          "output_type": "stream",
          "name": "stdout",
          "text": [
            "Not setting metadata\n"
          ]
        },
        {
          "output_type": "stream",
          "name": "stderr",
          "text": [
            "[Parallel(n_jobs=-1)]: Done  19 out of  19 | elapsed:    3.5s finished\n"
          ]
        },
        {
          "output_type": "stream",
          "name": "stdout",
          "text": [
            "65\n",
            "Reading /content/drive/MyDrive/adhd_dataset/Control_part1/v45p.fdt\n",
            "Not setting metadata\n",
            "166 matching events found\n",
            "No baseline correction applied\n",
            "0 projection items activated\n",
            "Loading data for 166 events and 256 original time points ...\n",
            "0 bad epochs dropped\n"
          ]
        },
        {
          "output_type": "stream",
          "name": "stderr",
          "text": [
            "[Parallel(n_jobs=-1)]: Using backend LokyBackend with 2 concurrent workers.\n",
            "[Parallel(n_jobs=-1)]: Done  16 tasks      | elapsed:    1.8s\n"
          ]
        },
        {
          "output_type": "stream",
          "name": "stdout",
          "text": [
            "Not setting metadata\n"
          ]
        },
        {
          "output_type": "stream",
          "name": "stderr",
          "text": [
            "[Parallel(n_jobs=-1)]: Done  19 out of  19 | elapsed:    2.1s finished\n"
          ]
        },
        {
          "output_type": "stream",
          "name": "stdout",
          "text": [
            "66\n",
            "Reading /content/drive/MyDrive/adhd_dataset/Control_part1/v46p.fdt\n",
            "Not setting metadata\n",
            "150 matching events found\n",
            "No baseline correction applied\n",
            "0 projection items activated\n",
            "Loading data for 150 events and 256 original time points ...\n",
            "0 bad epochs dropped\n"
          ]
        },
        {
          "output_type": "stream",
          "name": "stderr",
          "text": [
            "[Parallel(n_jobs=-1)]: Using backend LokyBackend with 2 concurrent workers.\n"
          ]
        },
        {
          "output_type": "stream",
          "name": "stdout",
          "text": [
            "Not setting metadata\n"
          ]
        },
        {
          "output_type": "stream",
          "name": "stderr",
          "text": [
            "[Parallel(n_jobs=-1)]: Done  19 out of  19 | elapsed:    1.9s finished\n"
          ]
        },
        {
          "output_type": "stream",
          "name": "stdout",
          "text": [
            "67\n",
            "Reading /content/drive/MyDrive/adhd_dataset/Control_part1/v47p.fdt\n",
            "Not setting metadata\n",
            "166 matching events found\n",
            "No baseline correction applied\n",
            "0 projection items activated\n",
            "Loading data for 166 events and 256 original time points ...\n",
            "0 bad epochs dropped\n"
          ]
        },
        {
          "output_type": "stream",
          "name": "stderr",
          "text": [
            "[Parallel(n_jobs=-1)]: Using backend LokyBackend with 2 concurrent workers.\n",
            "[Parallel(n_jobs=-1)]: Done  16 tasks      | elapsed:    3.1s\n"
          ]
        },
        {
          "output_type": "stream",
          "name": "stdout",
          "text": [
            "Not setting metadata\n"
          ]
        },
        {
          "output_type": "stream",
          "name": "stderr",
          "text": [
            "[Parallel(n_jobs=-1)]: Done  19 out of  19 | elapsed:    3.5s finished\n"
          ]
        },
        {
          "output_type": "stream",
          "name": "stdout",
          "text": [
            "68\n",
            "Reading /content/drive/MyDrive/adhd_dataset/Control_part1/v48p.fdt\n",
            "Not setting metadata\n",
            "160 matching events found\n",
            "No baseline correction applied\n",
            "0 projection items activated\n",
            "Loading data for 160 events and 256 original time points ...\n",
            "0 bad epochs dropped\n"
          ]
        },
        {
          "output_type": "stream",
          "name": "stderr",
          "text": [
            "[Parallel(n_jobs=-1)]: Using backend LokyBackend with 2 concurrent workers.\n",
            "[Parallel(n_jobs=-1)]: Done  16 tasks      | elapsed:    1.7s\n"
          ]
        },
        {
          "output_type": "stream",
          "name": "stdout",
          "text": [
            "Not setting metadata\n"
          ]
        },
        {
          "output_type": "stream",
          "name": "stderr",
          "text": [
            "[Parallel(n_jobs=-1)]: Done  19 out of  19 | elapsed:    2.1s finished\n"
          ]
        },
        {
          "output_type": "stream",
          "name": "stdout",
          "text": [
            "69\n",
            "Reading /content/drive/MyDrive/adhd_dataset/Control_part1/v49p.fdt\n",
            "Not setting metadata\n",
            "259 matching events found\n",
            "No baseline correction applied\n",
            "0 projection items activated\n",
            "Loading data for 259 events and 256 original time points ...\n",
            "0 bad epochs dropped\n"
          ]
        },
        {
          "output_type": "stream",
          "name": "stderr",
          "text": [
            "[Parallel(n_jobs=-1)]: Using backend LokyBackend with 2 concurrent workers.\n",
            "[Parallel(n_jobs=-1)]: Done  16 tasks      | elapsed:    2.8s\n"
          ]
        },
        {
          "output_type": "stream",
          "name": "stdout",
          "text": [
            "Not setting metadata\n"
          ]
        },
        {
          "output_type": "stream",
          "name": "stderr",
          "text": [
            "[Parallel(n_jobs=-1)]: Done  19 out of  19 | elapsed:    3.3s finished\n"
          ]
        },
        {
          "output_type": "stream",
          "name": "stdout",
          "text": [
            "70\n",
            "Reading /content/drive/MyDrive/adhd_dataset/Control_part1/v50p.fdt\n",
            "Not setting metadata\n",
            "250 matching events found\n",
            "No baseline correction applied\n",
            "0 projection items activated\n",
            "Loading data for 250 events and 256 original time points ...\n",
            "0 bad epochs dropped\n"
          ]
        },
        {
          "output_type": "stream",
          "name": "stderr",
          "text": [
            "[Parallel(n_jobs=-1)]: Using backend LokyBackend with 2 concurrent workers.\n",
            "[Parallel(n_jobs=-1)]: Done  16 tasks      | elapsed:    4.3s\n"
          ]
        },
        {
          "output_type": "stream",
          "name": "stdout",
          "text": [
            "Not setting metadata\n"
          ]
        },
        {
          "output_type": "stream",
          "name": "stderr",
          "text": [
            "[Parallel(n_jobs=-1)]: Done  19 out of  19 | elapsed:    4.8s finished\n"
          ]
        },
        {
          "output_type": "stream",
          "name": "stdout",
          "text": [
            "71\n",
            "Reading /content/drive/MyDrive/adhd_dataset/Control_part1/v51p.fdt\n",
            "Not setting metadata\n",
            "121 matching events found\n",
            "No baseline correction applied\n",
            "0 projection items activated\n",
            "Loading data for 121 events and 256 original time points ...\n",
            "0 bad epochs dropped\n"
          ]
        },
        {
          "output_type": "stream",
          "name": "stderr",
          "text": [
            "[Parallel(n_jobs=-1)]: Using backend LokyBackend with 2 concurrent workers.\n"
          ]
        },
        {
          "output_type": "stream",
          "name": "stdout",
          "text": [
            "Not setting metadata\n"
          ]
        },
        {
          "output_type": "stream",
          "name": "stderr",
          "text": [
            "[Parallel(n_jobs=-1)]: Done  19 out of  19 | elapsed:    1.5s finished\n"
          ]
        },
        {
          "output_type": "stream",
          "name": "stdout",
          "text": [
            "72\n",
            "Reading /content/drive/MyDrive/adhd_dataset/Control_part1/v52p.fdt\n",
            "Not setting metadata\n",
            "213 matching events found\n",
            "No baseline correction applied\n",
            "0 projection items activated\n",
            "Loading data for 213 events and 256 original time points ...\n",
            "0 bad epochs dropped\n"
          ]
        },
        {
          "output_type": "stream",
          "name": "stderr",
          "text": [
            "[Parallel(n_jobs=-1)]: Using backend LokyBackend with 2 concurrent workers.\n",
            "[Parallel(n_jobs=-1)]: Done  16 tasks      | elapsed:    2.4s\n"
          ]
        },
        {
          "output_type": "stream",
          "name": "stdout",
          "text": [
            "Not setting metadata\n"
          ]
        },
        {
          "output_type": "stream",
          "name": "stderr",
          "text": [
            "[Parallel(n_jobs=-1)]: Done  19 out of  19 | elapsed:    3.0s finished\n"
          ]
        },
        {
          "output_type": "stream",
          "name": "stdout",
          "text": [
            "73\n",
            "Reading /content/drive/MyDrive/adhd_dataset/Control_part1/v53p.fdt\n",
            "Not setting metadata\n",
            "295 matching events found\n",
            "No baseline correction applied\n",
            "0 projection items activated\n",
            "Loading data for 295 events and 256 original time points ...\n",
            "0 bad epochs dropped\n"
          ]
        },
        {
          "output_type": "stream",
          "name": "stderr",
          "text": [
            "[Parallel(n_jobs=-1)]: Using backend LokyBackend with 2 concurrent workers.\n",
            "[Parallel(n_jobs=-1)]: Done  16 tasks      | elapsed:    3.8s\n"
          ]
        },
        {
          "output_type": "stream",
          "name": "stdout",
          "text": [
            "Not setting metadata\n"
          ]
        },
        {
          "output_type": "stream",
          "name": "stderr",
          "text": [
            "[Parallel(n_jobs=-1)]: Done  19 out of  19 | elapsed:    4.3s finished\n"
          ]
        },
        {
          "output_type": "stream",
          "name": "stdout",
          "text": [
            "74\n",
            "Reading /content/drive/MyDrive/adhd_dataset/Control_part1/v54p.fdt\n",
            "Not setting metadata\n",
            "297 matching events found\n",
            "No baseline correction applied\n",
            "0 projection items activated\n",
            "Loading data for 297 events and 256 original time points ...\n",
            "0 bad epochs dropped\n"
          ]
        },
        {
          "output_type": "stream",
          "name": "stderr",
          "text": [
            "[Parallel(n_jobs=-1)]: Using backend LokyBackend with 2 concurrent workers.\n",
            "[Parallel(n_jobs=-1)]: Done  16 tasks      | elapsed:    3.8s\n"
          ]
        },
        {
          "output_type": "stream",
          "name": "stdout",
          "text": [
            "Not setting metadata\n"
          ]
        },
        {
          "output_type": "stream",
          "name": "stderr",
          "text": [
            "[Parallel(n_jobs=-1)]: Done  19 out of  19 | elapsed:    4.8s finished\n"
          ]
        },
        {
          "output_type": "stream",
          "name": "stdout",
          "text": [
            "75\n",
            "Reading /content/drive/MyDrive/adhd_dataset/Control_part1/v55p.fdt\n",
            "Not setting metadata\n",
            "220 matching events found\n",
            "No baseline correction applied\n",
            "0 projection items activated\n",
            "Loading data for 220 events and 256 original time points ...\n",
            "0 bad epochs dropped\n"
          ]
        },
        {
          "output_type": "stream",
          "name": "stderr",
          "text": [
            "[Parallel(n_jobs=-1)]: Using backend LokyBackend with 2 concurrent workers.\n",
            "[Parallel(n_jobs=-1)]: Done  16 tasks      | elapsed:    2.4s\n"
          ]
        },
        {
          "output_type": "stream",
          "name": "stdout",
          "text": [
            "Not setting metadata\n"
          ]
        },
        {
          "output_type": "stream",
          "name": "stderr",
          "text": [
            "[Parallel(n_jobs=-1)]: Done  19 out of  19 | elapsed:    2.8s finished\n"
          ]
        },
        {
          "output_type": "stream",
          "name": "stdout",
          "text": [
            "76\n",
            "Reading /content/drive/MyDrive/adhd_dataset/Control_part1/v56p.fdt\n",
            "Not setting metadata\n",
            "217 matching events found\n",
            "No baseline correction applied\n",
            "0 projection items activated\n",
            "Loading data for 217 events and 256 original time points ...\n",
            "0 bad epochs dropped\n"
          ]
        },
        {
          "output_type": "stream",
          "name": "stderr",
          "text": [
            "[Parallel(n_jobs=-1)]: Using backend LokyBackend with 2 concurrent workers.\n",
            "[Parallel(n_jobs=-1)]: Done  16 tasks      | elapsed:    2.7s\n"
          ]
        },
        {
          "output_type": "stream",
          "name": "stdout",
          "text": [
            "Not setting metadata\n"
          ]
        },
        {
          "output_type": "stream",
          "name": "stderr",
          "text": [
            "[Parallel(n_jobs=-1)]: Done  19 out of  19 | elapsed:    3.4s finished\n"
          ]
        },
        {
          "output_type": "stream",
          "name": "stdout",
          "text": [
            "77\n",
            "Reading /content/drive/MyDrive/adhd_dataset/Control_part1/v57p.fdt\n",
            "Not setting metadata\n",
            "226 matching events found\n",
            "No baseline correction applied\n",
            "0 projection items activated\n",
            "Loading data for 226 events and 256 original time points ...\n",
            "0 bad epochs dropped\n"
          ]
        },
        {
          "output_type": "stream",
          "name": "stderr",
          "text": [
            "[Parallel(n_jobs=-1)]: Using backend LokyBackend with 2 concurrent workers.\n",
            "[Parallel(n_jobs=-1)]: Done  16 tasks      | elapsed:    2.6s\n"
          ]
        },
        {
          "output_type": "stream",
          "name": "stdout",
          "text": [
            "Not setting metadata\n"
          ]
        },
        {
          "output_type": "stream",
          "name": "stderr",
          "text": [
            "[Parallel(n_jobs=-1)]: Done  19 out of  19 | elapsed:    3.0s finished\n"
          ]
        },
        {
          "output_type": "stream",
          "name": "stdout",
          "text": [
            "78\n",
            "Reading /content/drive/MyDrive/adhd_dataset/Control_part1/v58p.fdt\n",
            "Not setting metadata\n",
            "214 matching events found\n",
            "No baseline correction applied\n",
            "0 projection items activated\n",
            "Loading data for 214 events and 256 original time points ...\n",
            "0 bad epochs dropped\n"
          ]
        },
        {
          "output_type": "stream",
          "name": "stderr",
          "text": [
            "[Parallel(n_jobs=-1)]: Using backend LokyBackend with 2 concurrent workers.\n",
            "[Parallel(n_jobs=-1)]: Done  16 tasks      | elapsed:    2.3s\n"
          ]
        },
        {
          "output_type": "stream",
          "name": "stdout",
          "text": [
            "Not setting metadata\n"
          ]
        },
        {
          "output_type": "stream",
          "name": "stderr",
          "text": [
            "[Parallel(n_jobs=-1)]: Done  19 out of  19 | elapsed:    2.8s finished\n"
          ]
        },
        {
          "output_type": "stream",
          "name": "stdout",
          "text": [
            "79\n",
            "Reading /content/drive/MyDrive/adhd_dataset/Control_part1/v59p.fdt\n",
            "Not setting metadata\n",
            "255 matching events found\n",
            "No baseline correction applied\n",
            "0 projection items activated\n",
            "Loading data for 255 events and 256 original time points ...\n",
            "0 bad epochs dropped\n"
          ]
        },
        {
          "output_type": "stream",
          "name": "stderr",
          "text": [
            "[Parallel(n_jobs=-1)]: Using backend LokyBackend with 2 concurrent workers.\n",
            "[Parallel(n_jobs=-1)]: Done  16 tasks      | elapsed:    4.2s\n"
          ]
        },
        {
          "output_type": "stream",
          "name": "stdout",
          "text": [
            "Not setting metadata\n"
          ]
        },
        {
          "output_type": "stream",
          "name": "stderr",
          "text": [
            "[Parallel(n_jobs=-1)]: Done  19 out of  19 | elapsed:    4.8s finished\n"
          ]
        },
        {
          "output_type": "stream",
          "name": "stdout",
          "text": [
            "80\n",
            "Reading /content/drive/MyDrive/adhd_dataset/Control_part1/v60p.fdt\n",
            "Not setting metadata\n",
            "199 matching events found\n",
            "No baseline correction applied\n",
            "0 projection items activated\n",
            "Loading data for 199 events and 256 original time points ...\n",
            "0 bad epochs dropped\n"
          ]
        },
        {
          "output_type": "stream",
          "name": "stderr",
          "text": [
            "[Parallel(n_jobs=-1)]: Using backend LokyBackend with 2 concurrent workers.\n",
            "[Parallel(n_jobs=-1)]: Done  16 tasks      | elapsed:    2.2s\n"
          ]
        },
        {
          "output_type": "stream",
          "name": "stdout",
          "text": [
            "Not setting metadata\n"
          ]
        },
        {
          "output_type": "stream",
          "name": "stderr",
          "text": [
            "[Parallel(n_jobs=-1)]: Done  19 out of  19 | elapsed:    2.6s finished\n"
          ]
        },
        {
          "output_type": "stream",
          "name": "stdout",
          "text": [
            "81\n",
            "Reading /content/drive/MyDrive/adhd_dataset/Control_part1/v107p.fdt\n",
            "Not setting metadata\n",
            "306 matching events found\n",
            "No baseline correction applied\n",
            "0 projection items activated\n",
            "Loading data for 306 events and 256 original time points ...\n",
            "0 bad epochs dropped\n"
          ]
        },
        {
          "output_type": "stream",
          "name": "stderr",
          "text": [
            "[Parallel(n_jobs=-1)]: Using backend LokyBackend with 2 concurrent workers.\n",
            "[Parallel(n_jobs=-1)]: Done  16 tasks      | elapsed:    5.4s\n"
          ]
        },
        {
          "output_type": "stream",
          "name": "stdout",
          "text": [
            "Not setting metadata\n"
          ]
        },
        {
          "output_type": "stream",
          "name": "stderr",
          "text": [
            "[Parallel(n_jobs=-1)]: Done  19 out of  19 | elapsed:    6.2s finished\n"
          ]
        },
        {
          "output_type": "stream",
          "name": "stdout",
          "text": [
            "82\n",
            "Reading /content/drive/MyDrive/adhd_dataset/Control_part1/v108p.fdt\n",
            "Not setting metadata\n",
            "294 matching events found\n",
            "No baseline correction applied\n",
            "0 projection items activated\n",
            "Loading data for 294 events and 256 original time points ...\n",
            "0 bad epochs dropped\n"
          ]
        },
        {
          "output_type": "stream",
          "name": "stderr",
          "text": [
            "[Parallel(n_jobs=-1)]: Using backend LokyBackend with 2 concurrent workers.\n",
            "[Parallel(n_jobs=-1)]: Done  16 tasks      | elapsed:    3.2s\n"
          ]
        },
        {
          "output_type": "stream",
          "name": "stdout",
          "text": [
            "Not setting metadata\n"
          ]
        },
        {
          "output_type": "stream",
          "name": "stderr",
          "text": [
            "[Parallel(n_jobs=-1)]: Done  19 out of  19 | elapsed:    3.8s finished\n"
          ]
        },
        {
          "output_type": "stream",
          "name": "stdout",
          "text": [
            "83\n",
            "Reading /content/drive/MyDrive/adhd_dataset/Control_part1/v109p.fdt\n",
            "Not setting metadata\n",
            "247 matching events found\n",
            "No baseline correction applied\n",
            "0 projection items activated\n",
            "Loading data for 247 events and 256 original time points ...\n",
            "0 bad epochs dropped\n"
          ]
        },
        {
          "output_type": "stream",
          "name": "stderr",
          "text": [
            "[Parallel(n_jobs=-1)]: Using backend LokyBackend with 2 concurrent workers.\n",
            "[Parallel(n_jobs=-1)]: Done  16 tasks      | elapsed:    3.0s\n"
          ]
        },
        {
          "output_type": "stream",
          "name": "stdout",
          "text": [
            "Not setting metadata\n"
          ]
        },
        {
          "output_type": "stream",
          "name": "stderr",
          "text": [
            "[Parallel(n_jobs=-1)]: Done  19 out of  19 | elapsed:    3.5s finished\n"
          ]
        },
        {
          "output_type": "stream",
          "name": "stdout",
          "text": [
            "84\n",
            "Reading /content/drive/MyDrive/adhd_dataset/Control_part1/v110p.fdt\n",
            "Not setting metadata\n",
            "255 matching events found\n",
            "No baseline correction applied\n",
            "0 projection items activated\n",
            "Loading data for 255 events and 256 original time points ...\n",
            "0 bad epochs dropped\n"
          ]
        },
        {
          "output_type": "stream",
          "name": "stderr",
          "text": [
            "[Parallel(n_jobs=-1)]: Using backend LokyBackend with 2 concurrent workers.\n",
            "[Parallel(n_jobs=-1)]: Done  16 tasks      | elapsed:    2.8s\n"
          ]
        },
        {
          "output_type": "stream",
          "name": "stdout",
          "text": [
            "Not setting metadata\n"
          ]
        },
        {
          "output_type": "stream",
          "name": "stderr",
          "text": [
            "[Parallel(n_jobs=-1)]: Done  19 out of  19 | elapsed:    3.3s finished\n"
          ]
        },
        {
          "output_type": "stream",
          "name": "stdout",
          "text": [
            "85\n",
            "Reading /content/drive/MyDrive/adhd_dataset/Control_part1/v111p.fdt\n",
            "Not setting metadata\n",
            "236 matching events found\n",
            "No baseline correction applied\n",
            "0 projection items activated\n",
            "Loading data for 236 events and 256 original time points ...\n",
            "0 bad epochs dropped\n"
          ]
        },
        {
          "output_type": "stream",
          "name": "stderr",
          "text": [
            "[Parallel(n_jobs=-1)]: Using backend LokyBackend with 2 concurrent workers.\n",
            "[Parallel(n_jobs=-1)]: Done  16 tasks      | elapsed:    3.1s\n"
          ]
        },
        {
          "output_type": "stream",
          "name": "stdout",
          "text": [
            "Not setting metadata\n"
          ]
        },
        {
          "output_type": "stream",
          "name": "stderr",
          "text": [
            "[Parallel(n_jobs=-1)]: Done  19 out of  19 | elapsed:    3.5s finished\n"
          ]
        },
        {
          "output_type": "stream",
          "name": "stdout",
          "text": [
            "86\n",
            "Reading /content/drive/MyDrive/adhd_dataset/Control_part1/v112p.fdt\n",
            "Not setting metadata\n",
            "246 matching events found\n",
            "No baseline correction applied\n",
            "0 projection items activated\n",
            "Loading data for 246 events and 256 original time points ...\n",
            "0 bad epochs dropped\n"
          ]
        },
        {
          "output_type": "stream",
          "name": "stderr",
          "text": [
            "[Parallel(n_jobs=-1)]: Using backend LokyBackend with 2 concurrent workers.\n",
            "[Parallel(n_jobs=-1)]: Done  16 tasks      | elapsed:    2.7s\n"
          ]
        },
        {
          "output_type": "stream",
          "name": "stdout",
          "text": [
            "Not setting metadata\n"
          ]
        },
        {
          "output_type": "stream",
          "name": "stderr",
          "text": [
            "[Parallel(n_jobs=-1)]: Done  19 out of  19 | elapsed:    3.2s finished\n"
          ]
        },
        {
          "output_type": "stream",
          "name": "stdout",
          "text": [
            "87\n",
            "Reading /content/drive/MyDrive/adhd_dataset/Control_part1/v113p.fdt\n",
            "Not setting metadata\n",
            "240 matching events found\n",
            "No baseline correction applied\n",
            "0 projection items activated\n",
            "Loading data for 240 events and 256 original time points ...\n",
            "0 bad epochs dropped\n"
          ]
        },
        {
          "output_type": "stream",
          "name": "stderr",
          "text": [
            "[Parallel(n_jobs=-1)]: Using backend LokyBackend with 2 concurrent workers.\n",
            "[Parallel(n_jobs=-1)]: Done  16 tasks      | elapsed:    3.5s\n"
          ]
        },
        {
          "output_type": "stream",
          "name": "stdout",
          "text": [
            "Not setting metadata\n"
          ]
        },
        {
          "output_type": "stream",
          "name": "stderr",
          "text": [
            "[Parallel(n_jobs=-1)]: Done  19 out of  19 | elapsed:    3.9s finished\n"
          ]
        },
        {
          "output_type": "stream",
          "name": "stdout",
          "text": [
            "88\n",
            "Reading /content/drive/MyDrive/adhd_dataset/Control_part1/v114p.fdt\n",
            "Not setting metadata\n",
            "204 matching events found\n",
            "No baseline correction applied\n",
            "0 projection items activated\n",
            "Loading data for 204 events and 256 original time points ...\n",
            "0 bad epochs dropped\n"
          ]
        },
        {
          "output_type": "stream",
          "name": "stderr",
          "text": [
            "[Parallel(n_jobs=-1)]: Using backend LokyBackend with 2 concurrent workers.\n",
            "[Parallel(n_jobs=-1)]: Done  16 tasks      | elapsed:    2.2s\n"
          ]
        },
        {
          "output_type": "stream",
          "name": "stdout",
          "text": [
            "Not setting metadata\n"
          ]
        },
        {
          "output_type": "stream",
          "name": "stderr",
          "text": [
            "[Parallel(n_jobs=-1)]: Done  19 out of  19 | elapsed:    2.6s finished\n"
          ]
        },
        {
          "output_type": "stream",
          "name": "stdout",
          "text": [
            "89\n",
            "Reading /content/drive/MyDrive/adhd_dataset/Control_part1/v115p.fdt\n",
            "Not setting metadata\n",
            "241 matching events found\n",
            "No baseline correction applied\n",
            "0 projection items activated\n",
            "Loading data for 241 events and 256 original time points ...\n",
            "0 bad epochs dropped\n"
          ]
        },
        {
          "output_type": "stream",
          "name": "stderr",
          "text": [
            "[Parallel(n_jobs=-1)]: Using backend LokyBackend with 2 concurrent workers.\n",
            "[Parallel(n_jobs=-1)]: Done  16 tasks      | elapsed:    4.2s\n"
          ]
        },
        {
          "output_type": "stream",
          "name": "stdout",
          "text": [
            "Not setting metadata\n"
          ]
        },
        {
          "output_type": "stream",
          "name": "stderr",
          "text": [
            "[Parallel(n_jobs=-1)]: Done  19 out of  19 | elapsed:    5.1s finished\n"
          ]
        },
        {
          "output_type": "stream",
          "name": "stdout",
          "text": [
            "90\n",
            "Reading /content/drive/MyDrive/adhd_dataset/Control_part1/v116p.fdt\n",
            "Not setting metadata\n",
            "298 matching events found\n",
            "No baseline correction applied\n",
            "0 projection items activated\n",
            "Loading data for 298 events and 256 original time points ...\n",
            "0 bad epochs dropped\n"
          ]
        },
        {
          "output_type": "stream",
          "name": "stderr",
          "text": [
            "[Parallel(n_jobs=-1)]: Using backend LokyBackend with 2 concurrent workers.\n",
            "[Parallel(n_jobs=-1)]: Done  16 tasks      | elapsed:    3.3s\n"
          ]
        },
        {
          "output_type": "stream",
          "name": "stdout",
          "text": [
            "Not setting metadata\n"
          ]
        },
        {
          "output_type": "stream",
          "name": "stderr",
          "text": [
            "[Parallel(n_jobs=-1)]: Done  19 out of  19 | elapsed:    3.8s finished\n"
          ]
        },
        {
          "output_type": "stream",
          "name": "stdout",
          "text": [
            "91\n",
            "Reading /content/drive/MyDrive/adhd_dataset/Control_part2/v117.fdt\n",
            "Not setting metadata\n",
            "397 matching events found\n",
            "No baseline correction applied\n",
            "0 projection items activated\n",
            "Loading data for 397 events and 256 original time points ...\n",
            "0 bad epochs dropped\n"
          ]
        },
        {
          "output_type": "stream",
          "name": "stderr",
          "text": [
            "[Parallel(n_jobs=-1)]: Using backend LokyBackend with 2 concurrent workers.\n",
            "[Parallel(n_jobs=-1)]: Done  16 tasks      | elapsed:    5.8s\n"
          ]
        },
        {
          "output_type": "stream",
          "name": "stdout",
          "text": [
            "Not setting metadata\n"
          ]
        },
        {
          "output_type": "stream",
          "name": "stderr",
          "text": [
            "[Parallel(n_jobs=-1)]: Done  19 out of  19 | elapsed:    6.6s finished\n"
          ]
        },
        {
          "output_type": "stream",
          "name": "stdout",
          "text": [
            "92\n",
            "Reading /content/drive/MyDrive/adhd_dataset/Control_part2/v118.fdt\n",
            "Not setting metadata\n",
            "184 matching events found\n",
            "No baseline correction applied\n",
            "0 projection items activated\n",
            "Loading data for 184 events and 256 original time points ...\n",
            "0 bad epochs dropped\n"
          ]
        },
        {
          "output_type": "stream",
          "name": "stderr",
          "text": [
            "[Parallel(n_jobs=-1)]: Using backend LokyBackend with 2 concurrent workers.\n",
            "[Parallel(n_jobs=-1)]: Done  16 tasks      | elapsed:    3.3s\n"
          ]
        },
        {
          "output_type": "stream",
          "name": "stdout",
          "text": [
            "Not setting metadata\n"
          ]
        },
        {
          "output_type": "stream",
          "name": "stderr",
          "text": [
            "[Parallel(n_jobs=-1)]: Done  19 out of  19 | elapsed:    3.8s finished\n"
          ]
        },
        {
          "output_type": "stream",
          "name": "stdout",
          "text": [
            "93\n",
            "Reading /content/drive/MyDrive/adhd_dataset/Control_part2/v120.fdt\n",
            "Not setting metadata\n",
            "185 matching events found\n",
            "No baseline correction applied\n",
            "0 projection items activated\n",
            "Loading data for 185 events and 256 original time points ...\n",
            "0 bad epochs dropped\n"
          ]
        },
        {
          "output_type": "stream",
          "name": "stderr",
          "text": [
            "[Parallel(n_jobs=-1)]: Using backend LokyBackend with 2 concurrent workers.\n",
            "[Parallel(n_jobs=-1)]: Done  16 tasks      | elapsed:    2.0s\n"
          ]
        },
        {
          "output_type": "stream",
          "name": "stdout",
          "text": [
            "Not setting metadata\n"
          ]
        },
        {
          "output_type": "stream",
          "name": "stderr",
          "text": [
            "[Parallel(n_jobs=-1)]: Done  19 out of  19 | elapsed:    2.4s finished\n"
          ]
        },
        {
          "output_type": "stream",
          "name": "stdout",
          "text": [
            "94\n",
            "Reading /content/drive/MyDrive/adhd_dataset/Control_part2/v121.fdt\n",
            "Not setting metadata\n",
            "252 matching events found\n",
            "No baseline correction applied\n",
            "0 projection items activated\n",
            "Loading data for 252 events and 256 original time points ...\n",
            "0 bad epochs dropped\n"
          ]
        },
        {
          "output_type": "stream",
          "name": "stderr",
          "text": [
            "[Parallel(n_jobs=-1)]: Using backend LokyBackend with 2 concurrent workers.\n",
            "[Parallel(n_jobs=-1)]: Done  16 tasks      | elapsed:    2.7s\n"
          ]
        },
        {
          "output_type": "stream",
          "name": "stdout",
          "text": [
            "Not setting metadata\n"
          ]
        },
        {
          "output_type": "stream",
          "name": "stderr",
          "text": [
            "[Parallel(n_jobs=-1)]: Done  19 out of  19 | elapsed:    3.2s finished\n"
          ]
        },
        {
          "output_type": "stream",
          "name": "stdout",
          "text": [
            "95\n",
            "Reading /content/drive/MyDrive/adhd_dataset/Control_part2/v123.fdt\n",
            "Not setting metadata\n",
            "224 matching events found\n",
            "No baseline correction applied\n",
            "0 projection items activated\n",
            "Loading data for 224 events and 256 original time points ...\n",
            "0 bad epochs dropped\n"
          ]
        },
        {
          "output_type": "stream",
          "name": "stderr",
          "text": [
            "[Parallel(n_jobs=-1)]: Using backend LokyBackend with 2 concurrent workers.\n",
            "[Parallel(n_jobs=-1)]: Done  16 tasks      | elapsed:    3.5s\n"
          ]
        },
        {
          "output_type": "stream",
          "name": "stdout",
          "text": [
            "Not setting metadata\n"
          ]
        },
        {
          "output_type": "stream",
          "name": "stderr",
          "text": [
            "[Parallel(n_jobs=-1)]: Done  19 out of  19 | elapsed:    3.9s finished\n"
          ]
        },
        {
          "output_type": "stream",
          "name": "stdout",
          "text": [
            "96\n",
            "Reading /content/drive/MyDrive/adhd_dataset/Control_part2/v125.fdt\n",
            "Not setting metadata\n",
            "237 matching events found\n",
            "No baseline correction applied\n",
            "0 projection items activated\n",
            "Loading data for 237 events and 256 original time points ...\n",
            "0 bad epochs dropped\n"
          ]
        },
        {
          "output_type": "stream",
          "name": "stderr",
          "text": [
            "[Parallel(n_jobs=-1)]: Using backend LokyBackend with 2 concurrent workers.\n",
            "[Parallel(n_jobs=-1)]: Done  16 tasks      | elapsed:    2.6s\n"
          ]
        },
        {
          "output_type": "stream",
          "name": "stdout",
          "text": [
            "Not setting metadata\n"
          ]
        },
        {
          "output_type": "stream",
          "name": "stderr",
          "text": [
            "[Parallel(n_jobs=-1)]: Done  19 out of  19 | elapsed:    3.1s finished\n"
          ]
        },
        {
          "output_type": "stream",
          "name": "stdout",
          "text": [
            "97\n",
            "Reading /content/drive/MyDrive/adhd_dataset/Control_part2/v127.fdt\n",
            "Not setting metadata\n",
            "227 matching events found\n",
            "No baseline correction applied\n",
            "0 projection items activated\n",
            "Loading data for 227 events and 256 original time points ...\n",
            "0 bad epochs dropped\n"
          ]
        },
        {
          "output_type": "stream",
          "name": "stderr",
          "text": [
            "[Parallel(n_jobs=-1)]: Using backend LokyBackend with 2 concurrent workers.\n",
            "[Parallel(n_jobs=-1)]: Done  16 tasks      | elapsed:    4.0s\n"
          ]
        },
        {
          "output_type": "stream",
          "name": "stdout",
          "text": [
            "Not setting metadata\n"
          ]
        },
        {
          "output_type": "stream",
          "name": "stderr",
          "text": [
            "[Parallel(n_jobs=-1)]: Done  19 out of  19 | elapsed:    4.7s finished\n"
          ]
        },
        {
          "output_type": "stream",
          "name": "stdout",
          "text": [
            "98\n",
            "Reading /content/drive/MyDrive/adhd_dataset/Control_part2/v129.fdt\n",
            "Not setting metadata\n",
            "172 matching events found\n",
            "No baseline correction applied\n",
            "0 projection items activated\n",
            "Loading data for 172 events and 256 original time points ...\n",
            "0 bad epochs dropped\n"
          ]
        },
        {
          "output_type": "stream",
          "name": "stderr",
          "text": [
            "[Parallel(n_jobs=-1)]: Using backend LokyBackend with 2 concurrent workers.\n",
            "[Parallel(n_jobs=-1)]: Done  16 tasks      | elapsed:    1.9s\n"
          ]
        },
        {
          "output_type": "stream",
          "name": "stdout",
          "text": [
            "Not setting metadata\n"
          ]
        },
        {
          "output_type": "stream",
          "name": "stderr",
          "text": [
            "[Parallel(n_jobs=-1)]: Done  19 out of  19 | elapsed:    2.2s finished\n"
          ]
        },
        {
          "output_type": "stream",
          "name": "stdout",
          "text": [
            "99\n",
            "Reading /content/drive/MyDrive/adhd_dataset/Control_part2/v131.fdt\n",
            "Not setting metadata\n",
            "257 matching events found\n",
            "No baseline correction applied\n",
            "0 projection items activated\n",
            "Loading data for 257 events and 256 original time points ...\n",
            "0 bad epochs dropped\n"
          ]
        },
        {
          "output_type": "stream",
          "name": "stderr",
          "text": [
            "[Parallel(n_jobs=-1)]: Using backend LokyBackend with 2 concurrent workers.\n",
            "[Parallel(n_jobs=-1)]: Done  16 tasks      | elapsed:    3.6s\n"
          ]
        },
        {
          "output_type": "stream",
          "name": "stdout",
          "text": [
            "Not setting metadata\n"
          ]
        },
        {
          "output_type": "stream",
          "name": "stderr",
          "text": [
            "[Parallel(n_jobs=-1)]: Done  19 out of  19 | elapsed:    4.5s finished\n"
          ]
        },
        {
          "output_type": "stream",
          "name": "stdout",
          "text": [
            "100\n",
            "Reading /content/drive/MyDrive/adhd_dataset/Control_part2/v133.fdt\n",
            "Not setting metadata\n",
            "232 matching events found\n",
            "No baseline correction applied\n",
            "0 projection items activated\n",
            "Loading data for 232 events and 256 original time points ...\n",
            "0 bad epochs dropped\n"
          ]
        },
        {
          "output_type": "stream",
          "name": "stderr",
          "text": [
            "[Parallel(n_jobs=-1)]: Using backend LokyBackend with 2 concurrent workers.\n",
            "[Parallel(n_jobs=-1)]: Done  16 tasks      | elapsed:    2.5s\n"
          ]
        },
        {
          "output_type": "stream",
          "name": "stdout",
          "text": [
            "Not setting metadata\n"
          ]
        },
        {
          "output_type": "stream",
          "name": "stderr",
          "text": [
            "[Parallel(n_jobs=-1)]: Done  19 out of  19 | elapsed:    3.0s finished\n"
          ]
        },
        {
          "output_type": "stream",
          "name": "stdout",
          "text": [
            "101\n",
            "Reading /content/drive/MyDrive/adhd_dataset/Control_part2/v134.fdt\n",
            "Not setting metadata\n",
            "205 matching events found\n",
            "No baseline correction applied\n",
            "0 projection items activated\n",
            "Loading data for 205 events and 256 original time points ...\n",
            "0 bad epochs dropped\n"
          ]
        },
        {
          "output_type": "stream",
          "name": "stderr",
          "text": [
            "[Parallel(n_jobs=-1)]: Using backend LokyBackend with 2 concurrent workers.\n",
            "[Parallel(n_jobs=-1)]: Done  16 tasks      | elapsed:    2.2s\n"
          ]
        },
        {
          "output_type": "stream",
          "name": "stdout",
          "text": [
            "Not setting metadata\n"
          ]
        },
        {
          "output_type": "stream",
          "name": "stderr",
          "text": [
            "[Parallel(n_jobs=-1)]: Done  19 out of  19 | elapsed:    2.8s finished\n"
          ]
        },
        {
          "output_type": "stream",
          "name": "stdout",
          "text": [
            "102\n",
            "Reading /content/drive/MyDrive/adhd_dataset/Control_part2/v138.fdt\n",
            "Not setting metadata\n",
            "192 matching events found\n",
            "No baseline correction applied\n",
            "0 projection items activated\n",
            "Loading data for 192 events and 256 original time points ...\n",
            "0 bad epochs dropped\n"
          ]
        },
        {
          "output_type": "stream",
          "name": "stderr",
          "text": [
            "[Parallel(n_jobs=-1)]: Using backend LokyBackend with 2 concurrent workers.\n",
            "[Parallel(n_jobs=-1)]: Done  16 tasks      | elapsed:    2.8s\n"
          ]
        },
        {
          "output_type": "stream",
          "name": "stdout",
          "text": [
            "Not setting metadata\n"
          ]
        },
        {
          "output_type": "stream",
          "name": "stderr",
          "text": [
            "[Parallel(n_jobs=-1)]: Done  19 out of  19 | elapsed:    3.2s finished\n"
          ]
        },
        {
          "output_type": "stream",
          "name": "stdout",
          "text": [
            "103\n",
            "Reading /content/drive/MyDrive/adhd_dataset/Control_part2/v140.fdt\n",
            "Not setting metadata\n",
            "265 matching events found\n",
            "No baseline correction applied\n",
            "0 projection items activated\n",
            "Loading data for 265 events and 256 original time points ...\n",
            "0 bad epochs dropped\n"
          ]
        },
        {
          "output_type": "stream",
          "name": "stderr",
          "text": [
            "[Parallel(n_jobs=-1)]: Using backend LokyBackend with 2 concurrent workers.\n",
            "[Parallel(n_jobs=-1)]: Done  16 tasks      | elapsed:    2.9s\n"
          ]
        },
        {
          "output_type": "stream",
          "name": "stdout",
          "text": [
            "Not setting metadata\n"
          ]
        },
        {
          "output_type": "stream",
          "name": "stderr",
          "text": [
            "[Parallel(n_jobs=-1)]: Done  19 out of  19 | elapsed:    3.4s finished\n"
          ]
        },
        {
          "output_type": "stream",
          "name": "stdout",
          "text": [
            "104\n",
            "Reading /content/drive/MyDrive/adhd_dataset/Control_part2/v143.fdt\n",
            "Not setting metadata\n",
            "240 matching events found\n",
            "No baseline correction applied\n",
            "0 projection items activated\n",
            "Loading data for 240 events and 256 original time points ...\n",
            "0 bad epochs dropped\n"
          ]
        },
        {
          "output_type": "stream",
          "name": "stderr",
          "text": [
            "[Parallel(n_jobs=-1)]: Using backend LokyBackend with 2 concurrent workers.\n",
            "[Parallel(n_jobs=-1)]: Done  16 tasks      | elapsed:    4.2s\n"
          ]
        },
        {
          "output_type": "stream",
          "name": "stdout",
          "text": [
            "Not setting metadata\n"
          ]
        },
        {
          "output_type": "stream",
          "name": "stderr",
          "text": [
            "[Parallel(n_jobs=-1)]: Done  19 out of  19 | elapsed:    4.9s finished\n"
          ]
        },
        {
          "output_type": "stream",
          "name": "stdout",
          "text": [
            "105\n",
            "Reading /content/drive/MyDrive/adhd_dataset/Control_part2/v147.fdt\n",
            "Not setting metadata\n",
            "219 matching events found\n",
            "No baseline correction applied\n",
            "0 projection items activated\n",
            "Loading data for 219 events and 256 original time points ...\n",
            "0 bad epochs dropped\n"
          ]
        },
        {
          "output_type": "stream",
          "name": "stderr",
          "text": [
            "[Parallel(n_jobs=-1)]: Using backend LokyBackend with 2 concurrent workers.\n",
            "[Parallel(n_jobs=-1)]: Done  16 tasks      | elapsed:    2.3s\n"
          ]
        },
        {
          "output_type": "stream",
          "name": "stdout",
          "text": [
            "Not setting metadata\n"
          ]
        },
        {
          "output_type": "stream",
          "name": "stderr",
          "text": [
            "[Parallel(n_jobs=-1)]: Done  19 out of  19 | elapsed:    2.8s finished\n"
          ]
        },
        {
          "output_type": "stream",
          "name": "stdout",
          "text": [
            "106\n",
            "Reading /content/drive/MyDrive/adhd_dataset/Control_part2/v149.fdt\n",
            "Not setting metadata\n",
            "264 matching events found\n",
            "No baseline correction applied\n",
            "0 projection items activated\n",
            "Loading data for 264 events and 256 original time points ...\n",
            "0 bad epochs dropped\n"
          ]
        },
        {
          "output_type": "stream",
          "name": "stderr",
          "text": [
            "[Parallel(n_jobs=-1)]: Using backend LokyBackend with 2 concurrent workers.\n",
            "[Parallel(n_jobs=-1)]: Done  16 tasks      | elapsed:    4.6s\n"
          ]
        },
        {
          "output_type": "stream",
          "name": "stdout",
          "text": [
            "Not setting metadata\n"
          ]
        },
        {
          "output_type": "stream",
          "name": "stderr",
          "text": [
            "[Parallel(n_jobs=-1)]: Done  19 out of  19 | elapsed:    5.5s finished\n"
          ]
        },
        {
          "output_type": "stream",
          "name": "stdout",
          "text": [
            "107\n",
            "Reading /content/drive/MyDrive/adhd_dataset/Control_part2/v151.fdt\n",
            "Not setting metadata\n",
            "323 matching events found\n",
            "No baseline correction applied\n",
            "0 projection items activated\n",
            "Loading data for 323 events and 256 original time points ...\n",
            "0 bad epochs dropped\n"
          ]
        },
        {
          "output_type": "stream",
          "name": "stderr",
          "text": [
            "[Parallel(n_jobs=-1)]: Using backend LokyBackend with 2 concurrent workers.\n",
            "[Parallel(n_jobs=-1)]: Done  16 tasks      | elapsed:    3.5s\n"
          ]
        },
        {
          "output_type": "stream",
          "name": "stdout",
          "text": [
            "Not setting metadata\n"
          ]
        },
        {
          "output_type": "stream",
          "name": "stderr",
          "text": [
            "[Parallel(n_jobs=-1)]: Done  19 out of  19 | elapsed:    4.2s finished\n"
          ]
        },
        {
          "output_type": "stream",
          "name": "stdout",
          "text": [
            "108\n",
            "Reading /content/drive/MyDrive/adhd_dataset/Control_part2/v297.fdt\n",
            "Not setting metadata\n",
            "211 matching events found\n",
            "No baseline correction applied\n",
            "0 projection items activated\n",
            "Loading data for 211 events and 256 original time points ...\n",
            "0 bad epochs dropped\n"
          ]
        },
        {
          "output_type": "stream",
          "name": "stderr",
          "text": [
            "[Parallel(n_jobs=-1)]: Using backend LokyBackend with 2 concurrent workers.\n",
            "[Parallel(n_jobs=-1)]: Done  16 tasks      | elapsed:    3.7s\n"
          ]
        },
        {
          "output_type": "stream",
          "name": "stdout",
          "text": [
            "Not setting metadata\n"
          ]
        },
        {
          "output_type": "stream",
          "name": "stderr",
          "text": [
            "[Parallel(n_jobs=-1)]: Done  19 out of  19 | elapsed:    4.3s finished\n"
          ]
        },
        {
          "output_type": "stream",
          "name": "stdout",
          "text": [
            "109\n",
            "Reading /content/drive/MyDrive/adhd_dataset/Control_part2/v298.fdt\n",
            "Not setting metadata\n",
            "274 matching events found\n",
            "No baseline correction applied\n",
            "0 projection items activated\n",
            "Loading data for 274 events and 256 original time points ...\n",
            "0 bad epochs dropped\n"
          ]
        },
        {
          "output_type": "stream",
          "name": "stderr",
          "text": [
            "[Parallel(n_jobs=-1)]: Using backend LokyBackend with 2 concurrent workers.\n",
            "[Parallel(n_jobs=-1)]: Done  16 tasks      | elapsed:    3.0s\n"
          ]
        },
        {
          "output_type": "stream",
          "name": "stdout",
          "text": [
            "Not setting metadata\n"
          ]
        },
        {
          "output_type": "stream",
          "name": "stderr",
          "text": [
            "[Parallel(n_jobs=-1)]: Done  19 out of  19 | elapsed:    3.5s finished\n"
          ]
        },
        {
          "output_type": "stream",
          "name": "stdout",
          "text": [
            "110\n",
            "Reading /content/drive/MyDrive/adhd_dataset/Control_part2/v299.fdt\n",
            "Not setting metadata\n",
            "344 matching events found\n",
            "No baseline correction applied\n",
            "0 projection items activated\n",
            "Loading data for 344 events and 256 original time points ...\n",
            "0 bad epochs dropped\n"
          ]
        },
        {
          "output_type": "stream",
          "name": "stderr",
          "text": [
            "[Parallel(n_jobs=-1)]: Using backend LokyBackend with 2 concurrent workers.\n",
            "[Parallel(n_jobs=-1)]: Done  16 tasks      | elapsed:    5.7s\n"
          ]
        },
        {
          "output_type": "stream",
          "name": "stdout",
          "text": [
            "Not setting metadata\n"
          ]
        },
        {
          "output_type": "stream",
          "name": "stderr",
          "text": [
            "[Parallel(n_jobs=-1)]: Done  19 out of  19 | elapsed:    6.4s finished\n"
          ]
        },
        {
          "output_type": "stream",
          "name": "stdout",
          "text": [
            "111\n",
            "Reading /content/drive/MyDrive/adhd_dataset/Control_part2/v300.fdt\n",
            "Not setting metadata\n",
            "403 matching events found\n",
            "No baseline correction applied\n",
            "0 projection items activated\n",
            "Loading data for 403 events and 256 original time points ...\n",
            "0 bad epochs dropped\n"
          ]
        },
        {
          "output_type": "stream",
          "name": "stderr",
          "text": [
            "[Parallel(n_jobs=-1)]: Using backend LokyBackend with 2 concurrent workers.\n",
            "[Parallel(n_jobs=-1)]: Done  16 tasks      | elapsed:    5.6s\n"
          ]
        },
        {
          "output_type": "stream",
          "name": "stdout",
          "text": [
            "Not setting metadata\n"
          ]
        },
        {
          "output_type": "stream",
          "name": "stderr",
          "text": [
            "[Parallel(n_jobs=-1)]: Done  19 out of  19 | elapsed:    6.9s finished\n"
          ]
        },
        {
          "output_type": "stream",
          "name": "stdout",
          "text": [
            "112\n",
            "Reading /content/drive/MyDrive/adhd_dataset/Control_part2/v302.fdt\n",
            "Not setting metadata\n",
            "275 matching events found\n",
            "No baseline correction applied\n",
            "0 projection items activated\n",
            "Loading data for 275 events and 256 original time points ...\n",
            "0 bad epochs dropped\n"
          ]
        },
        {
          "output_type": "stream",
          "name": "stderr",
          "text": [
            "[Parallel(n_jobs=-1)]: Using backend LokyBackend with 2 concurrent workers.\n",
            "[Parallel(n_jobs=-1)]: Done  16 tasks      | elapsed:    3.0s\n"
          ]
        },
        {
          "output_type": "stream",
          "name": "stdout",
          "text": [
            "Not setting metadata\n"
          ]
        },
        {
          "output_type": "stream",
          "name": "stderr",
          "text": [
            "[Parallel(n_jobs=-1)]: Done  19 out of  19 | elapsed:    3.5s finished\n"
          ]
        },
        {
          "output_type": "stream",
          "name": "stdout",
          "text": [
            "113\n",
            "Reading /content/drive/MyDrive/adhd_dataset/Control_part2/v303.fdt\n",
            "Not setting metadata\n",
            "297 matching events found\n",
            "No baseline correction applied\n",
            "0 projection items activated\n",
            "Loading data for 297 events and 256 original time points ...\n",
            "0 bad epochs dropped\n"
          ]
        },
        {
          "output_type": "stream",
          "name": "stderr",
          "text": [
            "[Parallel(n_jobs=-1)]: Using backend LokyBackend with 2 concurrent workers.\n",
            "[Parallel(n_jobs=-1)]: Done  16 tasks      | elapsed:    4.7s\n"
          ]
        },
        {
          "output_type": "stream",
          "name": "stdout",
          "text": [
            "Not setting metadata\n"
          ]
        },
        {
          "output_type": "stream",
          "name": "stderr",
          "text": [
            "[Parallel(n_jobs=-1)]: Done  19 out of  19 | elapsed:    5.6s finished\n"
          ]
        },
        {
          "output_type": "stream",
          "name": "stdout",
          "text": [
            "114\n",
            "Reading /content/drive/MyDrive/adhd_dataset/Control_part2/v304.fdt\n",
            "Not setting metadata\n",
            "206 matching events found\n",
            "No baseline correction applied\n",
            "0 projection items activated\n",
            "Loading data for 206 events and 256 original time points ...\n",
            "0 bad epochs dropped\n"
          ]
        },
        {
          "output_type": "stream",
          "name": "stderr",
          "text": [
            "[Parallel(n_jobs=-1)]: Using backend LokyBackend with 2 concurrent workers.\n",
            "[Parallel(n_jobs=-1)]: Done  16 tasks      | elapsed:    2.2s\n"
          ]
        },
        {
          "output_type": "stream",
          "name": "stdout",
          "text": [
            "Not setting metadata\n"
          ]
        },
        {
          "output_type": "stream",
          "name": "stderr",
          "text": [
            "[Parallel(n_jobs=-1)]: Done  19 out of  19 | elapsed:    2.7s finished\n"
          ]
        },
        {
          "output_type": "stream",
          "name": "stdout",
          "text": [
            "115\n",
            "Reading /content/drive/MyDrive/adhd_dataset/Control_part2/v305.fdt\n",
            "Not setting metadata\n",
            "345 matching events found\n",
            "No baseline correction applied\n",
            "0 projection items activated\n",
            "Loading data for 345 events and 256 original time points ...\n",
            "0 bad epochs dropped\n"
          ]
        },
        {
          "output_type": "stream",
          "name": "stderr",
          "text": [
            "[Parallel(n_jobs=-1)]: Using backend LokyBackend with 2 concurrent workers.\n",
            "[Parallel(n_jobs=-1)]: Done  16 tasks      | elapsed:    6.2s\n"
          ]
        },
        {
          "output_type": "stream",
          "name": "stdout",
          "text": [
            "Not setting metadata\n"
          ]
        },
        {
          "output_type": "stream",
          "name": "stderr",
          "text": [
            "[Parallel(n_jobs=-1)]: Done  19 out of  19 | elapsed:    7.3s finished\n"
          ]
        },
        {
          "output_type": "stream",
          "name": "stdout",
          "text": [
            "116\n",
            "Reading /content/drive/MyDrive/adhd_dataset/Control_part2/v306.fdt\n",
            "Not setting metadata\n",
            "282 matching events found\n",
            "No baseline correction applied\n",
            "0 projection items activated\n",
            "Loading data for 282 events and 256 original time points ...\n",
            "0 bad epochs dropped\n"
          ]
        },
        {
          "output_type": "stream",
          "name": "stderr",
          "text": [
            "[Parallel(n_jobs=-1)]: Using backend LokyBackend with 2 concurrent workers.\n",
            "[Parallel(n_jobs=-1)]: Done  16 tasks      | elapsed:    6.4s\n",
            "[Parallel(n_jobs=-1)]: Done  19 out of  19 | elapsed:    7.6s finished\n"
          ]
        },
        {
          "output_type": "stream",
          "name": "stdout",
          "text": [
            "Not setting metadata\n",
            "117\n",
            "Reading /content/drive/MyDrive/adhd_dataset/Control_part2/v307.fdt\n",
            "Not setting metadata\n",
            "353 matching events found\n",
            "No baseline correction applied\n",
            "0 projection items activated\n",
            "Loading data for 353 events and 256 original time points ...\n",
            "0 bad epochs dropped\n"
          ]
        },
        {
          "output_type": "stream",
          "name": "stderr",
          "text": [
            "[Parallel(n_jobs=-1)]: Using backend LokyBackend with 2 concurrent workers.\n",
            "[Parallel(n_jobs=-1)]: Done  16 tasks      | elapsed:    3.8s\n"
          ]
        },
        {
          "output_type": "stream",
          "name": "stdout",
          "text": [
            "Not setting metadata\n"
          ]
        },
        {
          "output_type": "stream",
          "name": "stderr",
          "text": [
            "[Parallel(n_jobs=-1)]: Done  19 out of  19 | elapsed:    4.5s finished\n"
          ]
        },
        {
          "output_type": "stream",
          "name": "stdout",
          "text": [
            "118\n",
            "Reading /content/drive/MyDrive/adhd_dataset/Control_part2/v308.fdt\n",
            "Not setting metadata\n",
            "263 matching events found\n",
            "No baseline correction applied\n",
            "0 projection items activated\n",
            "Loading data for 263 events and 256 original time points ...\n",
            "0 bad epochs dropped\n"
          ]
        },
        {
          "output_type": "stream",
          "name": "stderr",
          "text": [
            "[Parallel(n_jobs=-1)]: Using backend LokyBackend with 2 concurrent workers.\n",
            "[Parallel(n_jobs=-1)]: Done  16 tasks      | elapsed:    2.9s\n"
          ]
        },
        {
          "output_type": "stream",
          "name": "stdout",
          "text": [
            "Not setting metadata\n"
          ]
        },
        {
          "output_type": "stream",
          "name": "stderr",
          "text": [
            "[Parallel(n_jobs=-1)]: Done  19 out of  19 | elapsed:    3.4s finished\n"
          ]
        },
        {
          "output_type": "stream",
          "name": "stdout",
          "text": [
            "119\n",
            "Reading /content/drive/MyDrive/adhd_dataset/Control_part2/v309.fdt\n",
            "Not setting metadata\n",
            "384 matching events found\n",
            "No baseline correction applied\n",
            "0 projection items activated\n",
            "Loading data for 384 events and 256 original time points ...\n",
            "0 bad epochs dropped\n"
          ]
        },
        {
          "output_type": "stream",
          "name": "stderr",
          "text": [
            "[Parallel(n_jobs=-1)]: Using backend LokyBackend with 2 concurrent workers.\n",
            "[Parallel(n_jobs=-1)]: Done  16 tasks      | elapsed:    4.2s\n"
          ]
        },
        {
          "output_type": "stream",
          "name": "stdout",
          "text": [
            "Not setting metadata\n"
          ]
        },
        {
          "output_type": "stream",
          "name": "stderr",
          "text": [
            "[Parallel(n_jobs=-1)]: Done  19 out of  19 | elapsed:    5.0s finished\n"
          ]
        },
        {
          "output_type": "stream",
          "name": "stdout",
          "text": [
            "120\n",
            "Reading /content/drive/MyDrive/adhd_dataset/Control_part2/v310.fdt\n",
            "Not setting metadata\n",
            "275 matching events found\n",
            "No baseline correction applied\n",
            "0 projection items activated\n",
            "Loading data for 275 events and 256 original time points ...\n",
            "0 bad epochs dropped\n"
          ]
        },
        {
          "output_type": "stream",
          "name": "stderr",
          "text": [
            "[Parallel(n_jobs=-1)]: Using backend LokyBackend with 2 concurrent workers.\n",
            "[Parallel(n_jobs=-1)]: Done  16 tasks      | elapsed:    3.1s\n"
          ]
        },
        {
          "output_type": "stream",
          "name": "stdout",
          "text": [
            "Not setting metadata\n"
          ]
        },
        {
          "output_type": "stream",
          "name": "stderr",
          "text": [
            "[Parallel(n_jobs=-1)]: Done  19 out of  19 | elapsed:    3.6s finished\n"
          ]
        },
        {
          "output_type": "stream",
          "name": "stdout",
          "text": [
            "121\n"
          ]
        }
      ],
      "source": [
        "for i in files:\n",
        "    person += 1\n",
        "    raw=mne.io.read_raw_eeglab(i)\n",
        "    epochs = mne.make_fixed_length_epochs(raw, duration=2, preload=False,overlap=1.5)\n",
        "    power = mne.time_frequency.tfr_morlet(epochs, n_cycles=5, return_itc=False,\n",
        "                                      freqs=frequencies, average = False, n_jobs=-1)\n",
        "\n",
        "    theta=power.to_data_frame()[(4 <= power.to_data_frame()[\"freq\"]) & (power.to_data_frame()[\"freq\"]  <= 8)].drop(columns=[\"condition\"])\n",
        "\n",
        "    alpha=power.to_data_frame()[(8 < power.to_data_frame()[\"freq\"]) & (power.to_data_frame()[\"freq\"]  <= 12)].drop(columns=[\"condition\"])\n",
        "\n",
        "    beta_gamma=power.to_data_frame()[(12 < power.to_data_frame()[\"freq\"]) & (power.to_data_frame()[\"freq\"]  <= 40)].drop(columns=[\"condition\"])\n",
        "\n",
        "    theta=theta.groupby([\"epoch\",\"time\"]).agg(\"mean\")\n",
        "    alpha=alpha.groupby([\"epoch\",\"time\"]).agg(\"mean\")\n",
        "    beta_gamma=beta_gamma.groupby([\"epoch\",\"time\"]).agg(\"mean\")\n",
        "    print(person)\n",
        "    for j in range(np.max(theta.reset_index().epoch)+1):\n",
        "        red=np.array(theta.loc[j].drop(columns=[\"freq\"]).T)\n",
        "        green=np.array(alpha.loc[j].drop(columns=[\"freq\"]).T)\n",
        "        blue=np.array(beta_gamma.loc[j].drop(columns=[\"freq\"]).T)\n",
        "        image=np.concatenate((red[:, :, np.newaxis],green[:, :, np.newaxis],blue[:, :, np.newaxis]),axis=2)\n",
        "        Z.append(person)\n",
        "        image=(image-np.min(image))/(np.max(image)-np.min(image))\n",
        "        genereted_images.append(image)\n",
        "        segment.append(segment_variable)\n",
        "        condition += 1\n",
        "        if condition >= con:\n",
        "            segment_variable += 1\n",
        "            condition = 0\n",
        "        if condition <= con and j == np.max(theta.reset_index().epoch):\n",
        "            segment_variable += 1\n",
        "            condition = 0"
      ]
    },
    {
      "cell_type": "code",
      "execution_count": null,
      "metadata": {
        "colab": {
          "base_uri": "https://localhost:8080/",
          "height": 423
        },
        "id": "9HvcXGQuYCj0",
        "outputId": "4f709217-742b-4b4a-8330-cdd6a473aa23"
      },
      "outputs": [
        {
          "output_type": "execute_result",
          "data": {
            "text/plain": [
              "       Y  person  segment\n",
              "0      1       1        0\n",
              "1      1       1        0\n",
              "2      1       1        0\n",
              "3      1       1        0\n",
              "4      1       1        0\n",
              "...   ..     ...      ...\n",
              "33429  0     121     1733\n",
              "33430  0     121     1733\n",
              "33431  0     121     1733\n",
              "33432  0     121     1733\n",
              "33433  0     121     1733\n",
              "\n",
              "[33434 rows x 3 columns]"
            ],
            "text/html": [
              "\n",
              "  <div id=\"df-a503c739-8ceb-4fbe-b91e-bcceb93caa65\" class=\"colab-df-container\">\n",
              "    <div>\n",
              "<style scoped>\n",
              "    .dataframe tbody tr th:only-of-type {\n",
              "        vertical-align: middle;\n",
              "    }\n",
              "\n",
              "    .dataframe tbody tr th {\n",
              "        vertical-align: top;\n",
              "    }\n",
              "\n",
              "    .dataframe thead th {\n",
              "        text-align: right;\n",
              "    }\n",
              "</style>\n",
              "<table border=\"1\" class=\"dataframe\">\n",
              "  <thead>\n",
              "    <tr style=\"text-align: right;\">\n",
              "      <th></th>\n",
              "      <th>Y</th>\n",
              "      <th>person</th>\n",
              "      <th>segment</th>\n",
              "    </tr>\n",
              "  </thead>\n",
              "  <tbody>\n",
              "    <tr>\n",
              "      <th>0</th>\n",
              "      <td>1</td>\n",
              "      <td>1</td>\n",
              "      <td>0</td>\n",
              "    </tr>\n",
              "    <tr>\n",
              "      <th>1</th>\n",
              "      <td>1</td>\n",
              "      <td>1</td>\n",
              "      <td>0</td>\n",
              "    </tr>\n",
              "    <tr>\n",
              "      <th>2</th>\n",
              "      <td>1</td>\n",
              "      <td>1</td>\n",
              "      <td>0</td>\n",
              "    </tr>\n",
              "    <tr>\n",
              "      <th>3</th>\n",
              "      <td>1</td>\n",
              "      <td>1</td>\n",
              "      <td>0</td>\n",
              "    </tr>\n",
              "    <tr>\n",
              "      <th>4</th>\n",
              "      <td>1</td>\n",
              "      <td>1</td>\n",
              "      <td>0</td>\n",
              "    </tr>\n",
              "    <tr>\n",
              "      <th>...</th>\n",
              "      <td>...</td>\n",
              "      <td>...</td>\n",
              "      <td>...</td>\n",
              "    </tr>\n",
              "    <tr>\n",
              "      <th>33429</th>\n",
              "      <td>0</td>\n",
              "      <td>121</td>\n",
              "      <td>1733</td>\n",
              "    </tr>\n",
              "    <tr>\n",
              "      <th>33430</th>\n",
              "      <td>0</td>\n",
              "      <td>121</td>\n",
              "      <td>1733</td>\n",
              "    </tr>\n",
              "    <tr>\n",
              "      <th>33431</th>\n",
              "      <td>0</td>\n",
              "      <td>121</td>\n",
              "      <td>1733</td>\n",
              "    </tr>\n",
              "    <tr>\n",
              "      <th>33432</th>\n",
              "      <td>0</td>\n",
              "      <td>121</td>\n",
              "      <td>1733</td>\n",
              "    </tr>\n",
              "    <tr>\n",
              "      <th>33433</th>\n",
              "      <td>0</td>\n",
              "      <td>121</td>\n",
              "      <td>1733</td>\n",
              "    </tr>\n",
              "  </tbody>\n",
              "</table>\n",
              "<p>33434 rows × 3 columns</p>\n",
              "</div>\n",
              "    <div class=\"colab-df-buttons\">\n",
              "\n",
              "  <div class=\"colab-df-container\">\n",
              "    <button class=\"colab-df-convert\" onclick=\"convertToInteractive('df-a503c739-8ceb-4fbe-b91e-bcceb93caa65')\"\n",
              "            title=\"Convert this dataframe to an interactive table.\"\n",
              "            style=\"display:none;\">\n",
              "\n",
              "  <svg xmlns=\"http://www.w3.org/2000/svg\" height=\"24px\" viewBox=\"0 -960 960 960\">\n",
              "    <path d=\"M120-120v-720h720v720H120Zm60-500h600v-160H180v160Zm220 220h160v-160H400v160Zm0 220h160v-160H400v160ZM180-400h160v-160H180v160Zm440 0h160v-160H620v160ZM180-180h160v-160H180v160Zm440 0h160v-160H620v160Z\"/>\n",
              "  </svg>\n",
              "    </button>\n",
              "\n",
              "  <style>\n",
              "    .colab-df-container {\n",
              "      display:flex;\n",
              "      gap: 12px;\n",
              "    }\n",
              "\n",
              "    .colab-df-convert {\n",
              "      background-color: #E8F0FE;\n",
              "      border: none;\n",
              "      border-radius: 50%;\n",
              "      cursor: pointer;\n",
              "      display: none;\n",
              "      fill: #1967D2;\n",
              "      height: 32px;\n",
              "      padding: 0 0 0 0;\n",
              "      width: 32px;\n",
              "    }\n",
              "\n",
              "    .colab-df-convert:hover {\n",
              "      background-color: #E2EBFA;\n",
              "      box-shadow: 0px 1px 2px rgba(60, 64, 67, 0.3), 0px 1px 3px 1px rgba(60, 64, 67, 0.15);\n",
              "      fill: #174EA6;\n",
              "    }\n",
              "\n",
              "    .colab-df-buttons div {\n",
              "      margin-bottom: 4px;\n",
              "    }\n",
              "\n",
              "    [theme=dark] .colab-df-convert {\n",
              "      background-color: #3B4455;\n",
              "      fill: #D2E3FC;\n",
              "    }\n",
              "\n",
              "    [theme=dark] .colab-df-convert:hover {\n",
              "      background-color: #434B5C;\n",
              "      box-shadow: 0px 1px 3px 1px rgba(0, 0, 0, 0.15);\n",
              "      filter: drop-shadow(0px 1px 2px rgba(0, 0, 0, 0.3));\n",
              "      fill: #FFFFFF;\n",
              "    }\n",
              "  </style>\n",
              "\n",
              "    <script>\n",
              "      const buttonEl =\n",
              "        document.querySelector('#df-a503c739-8ceb-4fbe-b91e-bcceb93caa65 button.colab-df-convert');\n",
              "      buttonEl.style.display =\n",
              "        google.colab.kernel.accessAllowed ? 'block' : 'none';\n",
              "\n",
              "      async function convertToInteractive(key) {\n",
              "        const element = document.querySelector('#df-a503c739-8ceb-4fbe-b91e-bcceb93caa65');\n",
              "        const dataTable =\n",
              "          await google.colab.kernel.invokeFunction('convertToInteractive',\n",
              "                                                    [key], {});\n",
              "        if (!dataTable) return;\n",
              "\n",
              "        const docLinkHtml = 'Like what you see? Visit the ' +\n",
              "          '<a target=\"_blank\" href=https://colab.research.google.com/notebooks/data_table.ipynb>data table notebook</a>'\n",
              "          + ' to learn more about interactive tables.';\n",
              "        element.innerHTML = '';\n",
              "        dataTable['output_type'] = 'display_data';\n",
              "        await google.colab.output.renderOutput(dataTable, element);\n",
              "        const docLink = document.createElement('div');\n",
              "        docLink.innerHTML = docLinkHtml;\n",
              "        element.appendChild(docLink);\n",
              "      }\n",
              "    </script>\n",
              "  </div>\n",
              "\n",
              "\n",
              "<div id=\"df-76a12aee-49af-4ed8-bd20-96db1403740b\">\n",
              "  <button class=\"colab-df-quickchart\" onclick=\"quickchart('df-76a12aee-49af-4ed8-bd20-96db1403740b')\"\n",
              "            title=\"Suggest charts\"\n",
              "            style=\"display:none;\">\n",
              "\n",
              "<svg xmlns=\"http://www.w3.org/2000/svg\" height=\"24px\"viewBox=\"0 0 24 24\"\n",
              "     width=\"24px\">\n",
              "    <g>\n",
              "        <path d=\"M19 3H5c-1.1 0-2 .9-2 2v14c0 1.1.9 2 2 2h14c1.1 0 2-.9 2-2V5c0-1.1-.9-2-2-2zM9 17H7v-7h2v7zm4 0h-2V7h2v10zm4 0h-2v-4h2v4z\"/>\n",
              "    </g>\n",
              "</svg>\n",
              "  </button>\n",
              "\n",
              "<style>\n",
              "  .colab-df-quickchart {\n",
              "      --bg-color: #E8F0FE;\n",
              "      --fill-color: #1967D2;\n",
              "      --hover-bg-color: #E2EBFA;\n",
              "      --hover-fill-color: #174EA6;\n",
              "      --disabled-fill-color: #AAA;\n",
              "      --disabled-bg-color: #DDD;\n",
              "  }\n",
              "\n",
              "  [theme=dark] .colab-df-quickchart {\n",
              "      --bg-color: #3B4455;\n",
              "      --fill-color: #D2E3FC;\n",
              "      --hover-bg-color: #434B5C;\n",
              "      --hover-fill-color: #FFFFFF;\n",
              "      --disabled-bg-color: #3B4455;\n",
              "      --disabled-fill-color: #666;\n",
              "  }\n",
              "\n",
              "  .colab-df-quickchart {\n",
              "    background-color: var(--bg-color);\n",
              "    border: none;\n",
              "    border-radius: 50%;\n",
              "    cursor: pointer;\n",
              "    display: none;\n",
              "    fill: var(--fill-color);\n",
              "    height: 32px;\n",
              "    padding: 0;\n",
              "    width: 32px;\n",
              "  }\n",
              "\n",
              "  .colab-df-quickchart:hover {\n",
              "    background-color: var(--hover-bg-color);\n",
              "    box-shadow: 0 1px 2px rgba(60, 64, 67, 0.3), 0 1px 3px 1px rgba(60, 64, 67, 0.15);\n",
              "    fill: var(--button-hover-fill-color);\n",
              "  }\n",
              "\n",
              "  .colab-df-quickchart-complete:disabled,\n",
              "  .colab-df-quickchart-complete:disabled:hover {\n",
              "    background-color: var(--disabled-bg-color);\n",
              "    fill: var(--disabled-fill-color);\n",
              "    box-shadow: none;\n",
              "  }\n",
              "\n",
              "  .colab-df-spinner {\n",
              "    border: 2px solid var(--fill-color);\n",
              "    border-color: transparent;\n",
              "    border-bottom-color: var(--fill-color);\n",
              "    animation:\n",
              "      spin 1s steps(1) infinite;\n",
              "  }\n",
              "\n",
              "  @keyframes spin {\n",
              "    0% {\n",
              "      border-color: transparent;\n",
              "      border-bottom-color: var(--fill-color);\n",
              "      border-left-color: var(--fill-color);\n",
              "    }\n",
              "    20% {\n",
              "      border-color: transparent;\n",
              "      border-left-color: var(--fill-color);\n",
              "      border-top-color: var(--fill-color);\n",
              "    }\n",
              "    30% {\n",
              "      border-color: transparent;\n",
              "      border-left-color: var(--fill-color);\n",
              "      border-top-color: var(--fill-color);\n",
              "      border-right-color: var(--fill-color);\n",
              "    }\n",
              "    40% {\n",
              "      border-color: transparent;\n",
              "      border-right-color: var(--fill-color);\n",
              "      border-top-color: var(--fill-color);\n",
              "    }\n",
              "    60% {\n",
              "      border-color: transparent;\n",
              "      border-right-color: var(--fill-color);\n",
              "    }\n",
              "    80% {\n",
              "      border-color: transparent;\n",
              "      border-right-color: var(--fill-color);\n",
              "      border-bottom-color: var(--fill-color);\n",
              "    }\n",
              "    90% {\n",
              "      border-color: transparent;\n",
              "      border-bottom-color: var(--fill-color);\n",
              "    }\n",
              "  }\n",
              "</style>\n",
              "\n",
              "  <script>\n",
              "    async function quickchart(key) {\n",
              "      const quickchartButtonEl =\n",
              "        document.querySelector('#' + key + ' button');\n",
              "      quickchartButtonEl.disabled = true;  // To prevent multiple clicks.\n",
              "      quickchartButtonEl.classList.add('colab-df-spinner');\n",
              "      try {\n",
              "        const charts = await google.colab.kernel.invokeFunction(\n",
              "            'suggestCharts', [key], {});\n",
              "      } catch (error) {\n",
              "        console.error('Error during call to suggestCharts:', error);\n",
              "      }\n",
              "      quickchartButtonEl.classList.remove('colab-df-spinner');\n",
              "      quickchartButtonEl.classList.add('colab-df-quickchart-complete');\n",
              "    }\n",
              "    (() => {\n",
              "      let quickchartButtonEl =\n",
              "        document.querySelector('#df-76a12aee-49af-4ed8-bd20-96db1403740b button');\n",
              "      quickchartButtonEl.style.display =\n",
              "        google.colab.kernel.accessAllowed ? 'block' : 'none';\n",
              "    })();\n",
              "  </script>\n",
              "</div>\n",
              "    </div>\n",
              "  </div>\n"
            ]
          },
          "metadata": {},
          "execution_count": 21
        }
      ],
      "source": [
        "# build Y and dataset\n",
        "genereted_images=np.stack(genereted_images)\n",
        "Y=np.concatenate((Y,np.repeat(0,genereted_images.shape[0]-len(Y))))\n",
        "full_data =pd.DataFrame({\"Y\":Y,\"person\":Z,\"segment\":segment})\n",
        "full_data"
      ]
    },
    {
      "cell_type": "code",
      "source": [
        "print(len(full_data[full_data.Y == 1]))\n",
        "print(len(full_data[full_data.Y == 0]))"
      ],
      "metadata": {
        "colab": {
          "base_uri": "https://localhost:8080/"
        },
        "id": "zYpZh_01Jfgf",
        "outputId": "d2c9b0f1-b17b-4af0-cb6a-bcc9ece22994"
      },
      "execution_count": null,
      "outputs": [
        {
          "output_type": "stream",
          "name": "stdout",
          "text": [
            "18651\n",
            "14783\n"
          ]
        }
      ]
    },
    {
      "cell_type": "code",
      "execution_count": null,
      "metadata": {
        "colab": {
          "base_uri": "https://localhost:8080/"
        },
        "id": "xw1AugtTYOpk",
        "outputId": "a6b01129-6f18-43e6-86ed-4b7266acf00f"
      },
      "outputs": [
        {
          "output_type": "stream",
          "name": "stdout",
          "text": [
            "33434 (33434, 19, 256, 3)\n"
          ]
        }
      ],
      "source": [
        "#check dimention of data\n",
        "assert len(Y)==genereted_images.shape[0],\"your data have problem\"\n",
        "print(len(Y),genereted_images.shape)"
      ]
    },
    {
      "cell_type": "code",
      "execution_count": null,
      "metadata": {
        "colab": {
          "base_uri": "https://localhost:8080/",
          "height": 151
        },
        "id": "c6S4_Z2vYTVV",
        "outputId": "533916a9-b178-4023-df41-c0cd8ccea322"
      },
      "outputs": [
        {
          "output_type": "display_data",
          "data": {
            "text/plain": [
              "<Figure size 3200x2400 with 1 Axes>"
            ],
            "image/png": "[encoded data removed]"
          },
          "metadata": {}
        }
      ],
      "source": [
        "import matplotlib as mpl\n",
        "mpl.rcParams['figure.dpi'] = 500\n",
        "plt.imshow(genereted_images[25145])\n",
        "plt.show()"
      ]
    },
    {
      "cell_type": "markdown",
      "metadata": {
        "id": "jwrh8k-GYamN"
      },
      "source": [
        "#Model Building\n",
        "## A CNN with Dropout"
      ]
    },
    {
      "cell_type": "code",
      "execution_count": null,
      "metadata": {
        "id": "q3qU2ETeYaKl"
      },
      "outputs": [],
      "source": [
        "# UNQ_C3\n",
        "# GRADED FUNCTION: ResNet50\n",
        "\n",
        "def CNN_model_1(input_shape = (64, 64, 3), classes = 6):\n",
        "    \"\"\"\n",
        "    Arguments:\n",
        "    input_shape -- shape of the images of the dataset\n",
        "    classes -- integer, number of classes\n",
        "\n",
        "    Returns:\n",
        "    model -- a Model() instance in Keras\n",
        "    \"\"\"\n",
        "    initializer = tf.keras.initializers.HeNormal()\n",
        "    # Define the input as a tensor with shape input_shape\n",
        "    X_input = Input(input_shape)\n",
        "\n",
        "\n",
        "    # Zero-Padding\n",
        "    #X = ZeroPadding2D((3, 3))(X_input)\n",
        "\n",
        "    # Stage 1\n",
        "    X = Conv2D(32, (3, 3), strides = (1, 1),padding=\"same\", kernel_initializer = initializer)(X_input)\n",
        "    #X = BatchNormalization(axis = 3)(X)\n",
        "    X = Activation('relu')(X)\n",
        "    X = MaxPooling2D((2, 2), strides=(2, 2))(X)\n",
        "    X= Dropout(rate=0.25)(X)\n",
        "\n",
        "    X = Conv2D(64, (3, 3), strides = (1, 1),padding=\"valid\", kernel_initializer = initializer)(X)\n",
        "    #X = BatchNormalization(axis = 3)(X)\n",
        "    X = Activation('relu')(X)\n",
        "    X = MaxPooling2D((2, 2), strides=(2, 2))(X)\n",
        "    X= Dropout(rate=0.25)(X)\n",
        "\n",
        "    X = Conv2D(128, (2, 2), strides = (1, 1),padding=\"valid\", kernel_initializer = initializer)(X)\n",
        "    #X = BatchNormalization(axis = 3)(X)\n",
        "    X = Activation('relu')(X)\n",
        "    X = MaxPooling2D((2, 2), strides=(2, 2))(X)\n",
        "    X= Dropout(rate=0.25)(X)\n",
        "\n",
        "    # output layer\n",
        "    X = Flatten()(X)\n",
        "    X = Dense(128, activation='relu', kernel_initializer = initializer)(X)\n",
        "    X= Dropout(rate=0.25)(X)\n",
        "\n",
        "    X = Dense(classes, activation='sigmoid', kernel_initializer = initializer)(X)\n",
        "\n",
        "\n",
        "    # Create model\n",
        "    model = Model(inputs = X_input, outputs = X)\n",
        "\n",
        "    return model"
      ]
    },
    {
      "cell_type": "markdown",
      "metadata": {
        "id": "JgNwJP-DaHX0"
      },
      "source": [
        "## ResNet"
      ]
    },
    {
      "cell_type": "code",
      "execution_count": null,
      "metadata": {
        "id": "AiCxRX_JaB0U"
      },
      "outputs": [],
      "source": [
        "# UNQ_C1\n",
        "# GRADED FUNCTION: identity_block\n",
        "\n",
        "def identity_block(X, f, filters, training=True, initializer=random_uniform):\n",
        "    \"\"\"\n",
        "    Implementation of the identity block as defined in Figure 4\n",
        "\n",
        "    Arguments:\n",
        "    X -- input tensor of shape (m, n_H_prev, n_W_prev, n_C_prev)\n",
        "    f -- integer, specifying the shape of the middle CONV's window for the main path\n",
        "    filters -- python list of integers, defining the number of filters in the CONV layers of the main path\n",
        "    training -- True: Behave in training mode\n",
        "                False: Behave in inference mode\n",
        "    initializer -- to set up the initial weights of a layer. Equals to random uniform initializer\n",
        "\n",
        "    Returns:\n",
        "    X -- output of the identity block, tensor of shape (m, n_H, n_W, n_C)\n",
        "    \"\"\"\n",
        "\n",
        "    # Retrieve Filters\n",
        "    F1, F2, F3 = filters\n",
        "\n",
        "    # Save the input value. You'll need this later to add back to the main path.\n",
        "    X_shortcut = X\n",
        "\n",
        "    # First component of main path\n",
        "    X = Conv2D(filters = F1, kernel_size = 1, strides = (1,1), padding = 'valid', kernel_initializer = initializer(seed=0))(X)\n",
        "    #X = BatchNormalization(axis = 3)(X, training = training) # Default axis\n",
        "    X = Activation('relu')(X)\n",
        "\n",
        "    ### START CODE HERE\n",
        "    ## Second component of main path (≈3 lines)\n",
        "    X = Conv2D(filters = F2, kernel_size = f, strides = (1,1), padding = 'same', kernel_initializer = initializer(seed=0))(X)\n",
        "    #X = BatchNormalization(axis = 3)(X, training = training)\n",
        "    X = Activation('relu')(X)\n",
        "\n",
        "    ## Third component of main path (≈2 lines)\n",
        "    X = Conv2D(filters = F3, kernel_size = 1, strides = (1,1), padding = 'valid', kernel_initializer = initializer(seed=0))(X)\n",
        "    #X =  BatchNormalization(axis = 3)(X, training = training)\n",
        "\n",
        "    ## Final step: Add shortcut value to main path, and pass it through a RELU activation (≈2 lines)\n",
        "    X = Add()([X_shortcut,X])\n",
        "    X = Activation('relu')(X)\n",
        "    ### END CODE HERE\n",
        "\n",
        "    return X"
      ]
    },
    {
      "cell_type": "code",
      "execution_count": null,
      "metadata": {
        "id": "APvn54OvaKrM"
      },
      "outputs": [],
      "source": [
        "# UNQ_C2\n",
        "# GRADED FUNCTION: convolutional_block\n",
        "\n",
        "def convolutional_block(X, f, filters, s = 2, training=True, initializer=glorot_uniform):\n",
        "    \"\"\"\n",
        "    Implementation of the convolutional block as defined in Figure 4\n",
        "\n",
        "    Arguments:\n",
        "    X -- input tensor of shape (m, n_H_prev, n_W_prev, n_C_prev)\n",
        "    f -- integer, specifying the shape of the middle CONV's window for the main path\n",
        "    filters -- python list of integers, defining the number of filters in the CONV layers of the main path\n",
        "    s -- Integer, specifying the stride to be used\n",
        "    training -- True: Behave in training mode\n",
        "                False: Behave in inference mode\n",
        "    initializer -- to set up the initial weights of a layer. Equals to Glorot uniform initializer,\n",
        "                   also called Xavier uniform initializer.\n",
        "\n",
        "    Returns:\n",
        "    X -- output of the convolutional block, tensor of shape (n_H, n_W, n_C)\n",
        "    \"\"\"\n",
        "\n",
        "    # Retrieve Filters\n",
        "    F1, F2, F3 = filters\n",
        "\n",
        "    # Save the input value\n",
        "    X_shortcut = X\n",
        "\n",
        "\n",
        "    ##### MAIN PATH #####\n",
        "\n",
        "    # First component of main path glorot_uniform(seed=0)\n",
        "    X = Conv2D(filters = F1, kernel_size = 1, strides = (s, s), padding='valid', kernel_initializer = initializer(seed=0))(X)\n",
        "    X = BatchNormalization(axis = 3)(X, training=training)\n",
        "    X = Activation('relu')(X)\n",
        "\n",
        "    ### START CODE HERE\n",
        "\n",
        "    ## Second component of main path (≈3 lines)\n",
        "    X = Conv2D(filters = F2, kernel_size = f, strides = (1, 1), padding='same', kernel_initializer = initializer(seed=0))(X)\n",
        "    X = BatchNormalization(axis = 3)(X, training=training)\n",
        "    X = Activation('relu')(X)\n",
        "\n",
        "    ## Third component of main path (≈2 lines)\n",
        "    X = Conv2D(filters = F3, kernel_size = 1, strides = (1, 1), padding='valid', kernel_initializer = initializer(seed=0))(X)\n",
        "    X =  BatchNormalization(axis = 3)(X, training=training)\n",
        "\n",
        "    ##### SHORTCUT PATH ##### (≈2 lines)\n",
        "    X_shortcut =  Conv2D(filters = F3, kernel_size = 1, strides = (s, s), padding='valid', kernel_initializer = initializer(seed=0))(X_shortcut)\n",
        "    X_shortcut =  BatchNormalization(axis = 3)(X_shortcut, training=training)\n",
        "\n",
        "    ### END CODE HERE\n",
        "\n",
        "    # Final step: Add shortcut value to main path (Use this order [X, X_shortcut]), and pass it through a RELU activation\n",
        "    X = Add()([X, X_shortcut])\n",
        "    X = Activation('relu')(X)\n",
        "\n",
        "    return X"
      ]
    },
    {
      "cell_type": "markdown",
      "metadata": {
        "id": "dXa5Y-n7aOL2"
      },
      "source": [
        "### customized resnet"
      ]
    },
    {
      "cell_type": "code",
      "execution_count": null,
      "metadata": {
        "id": "L1Fl60GUaMxs"
      },
      "outputs": [],
      "source": [
        "# UNQ_C3\n",
        "# GRADED FUNCTION: ResNet50\n",
        "\n",
        "def CNN_model_2(input_shape = (64, 64, 3), classes = 6):\n",
        "    \"\"\"\n",
        "    Arguments:\n",
        "    input_shape -- shape of the images of the dataset\n",
        "    classes -- integer, number of classes\n",
        "\n",
        "    Returns:\n",
        "    model -- a Model() instance in Keras\n",
        "    \"\"\"\n",
        "    initializer = tf.keras.initializers.HeNormal()\n",
        "    # Define the input as a tensor with shape input_shape\n",
        "    X_input = Input(input_shape)\n",
        "\n",
        "\n",
        "    # Zero-Padding\n",
        "    #X = ZeroPadding2D((3, 3))(X_input)\n",
        "\n",
        "    # Stage 1\n",
        "    X = Conv2D(32, (3, 3), strides = (1, 1),padding=\"same\", kernel_initializer = initializer)(X_input)\n",
        "    X = identity_block(X, 3, [32, 32, 32])\n",
        "    #X = BatchNormalization(axis = 3)(X)\n",
        "    X = Activation('relu')(X)\n",
        "    X = MaxPooling2D((2, 2), strides=(2, 2))(X)\n",
        "    X= Dropout(rate=0.25)(X)\n",
        "\n",
        "    X = Conv2D(64, (3, 3), strides = (1, 1),padding=\"valid\", kernel_initializer = initializer)(X)\n",
        "    X = identity_block(X, 3, [64, 64, 64])\n",
        "    #X = BatchNormalization(axis = 3)(X)\n",
        "    X = Activation('relu')(X)\n",
        "    X = MaxPooling2D((2, 2), strides=(2, 2))(X)\n",
        "    X= Dropout(rate=0.25)(X)\n",
        "\n",
        "    X = Conv2D(128, (2, 2), strides = (1, 1),padding=\"valid\", kernel_initializer = initializer)(X)\n",
        "    X = identity_block(X, 3, [128, 128, 128])\n",
        "    #X = BatchNormalization(axis = 3)(X)\n",
        "    X = Activation('relu')(X)\n",
        "    X = MaxPooling2D((2, 2), strides=(2, 2))(X)\n",
        "    X= Dropout(rate=0.25)(X)\n",
        "\n",
        "    # output layer\n",
        "    X = Flatten()(X)\n",
        "    X = Dense(128, activation='relu', kernel_initializer = initializer)(X)\n",
        "    X= Dropout(rate=0.25)(X)\n",
        "\n",
        "    X = Dense(classes, activation='sigmoid', kernel_initializer = initializer)(X)\n",
        "\n",
        "\n",
        "    # Create model\n",
        "    model = Model(inputs = X_input, outputs = X)\n",
        "\n",
        "    return model"
      ]
    },
    {
      "cell_type": "markdown",
      "metadata": {
        "id": "24Hh7HIcafQ8"
      },
      "source": [
        "# subject base from scratch"
      ]
    },
    {
      "cell_type": "code",
      "execution_count": null,
      "metadata": {
        "id": "ZCFqGOsAaht7"
      },
      "outputs": [],
      "source": [
        "# partial\n",
        "partials = ps.sqldf(\"\"\"\n",
        "            select segment from full_data\n",
        "            group by segment\n",
        "            having count(Y)<{}\n",
        "            \"\"\".format(con))\n",
        "\n",
        "compelete_segment = ps.sqldf(\"\"\"\n",
        "            select segment,0 as dummy_y from full_data\n",
        "            group by segment\n",
        "            having count(Y)>={}\n",
        "            \"\"\".format(con))"
      ]
    },
    {
      "cell_type": "code",
      "execution_count": null,
      "metadata": {
        "colab": {
          "base_uri": "https://localhost:8080/"
        },
        "id": "Yzt3HMW_apus",
        "outputId": "bd6dbbe5-0eae-43b8-f876-3a8da12f754a"
      },
      "outputs": [
        {
          "data": {
            "text/plain": [
              "(array([   1,    2,    3, ..., 1610, 1611, 1612]),\n",
              " array([   0,    4,   15,   23,   33,   38,   46,   51,   52,   54,   58,\n",
              "          61,   64,   96,   97,  100,  114,  130,  137,  145,  147,  154,\n",
              "         163,  190,  191,  210,  221,  236,  240,  246,  247,  252,  256,\n",
              "         257,  269,  276,  280,  312,  316,  329,  351,  372,  375,  411,\n",
              "         421,  431,  433,  443,  444,  448,  476,  483,  490,  510,  512,\n",
              "         520,  533,  541,  553,  555,  585,  595,  596,  599,  612,  623,\n",
              "         639,  650,  664,  707,  714,  723,  726,  730,  741,  749,  760,\n",
              "         772,  781,  784,  795,  801,  806,  810,  812,  817,  840,  848,\n",
              "         871,  876,  880,  894,  912,  915,  952,  964,  973,  974,  980,\n",
              "         999, 1005, 1012, 1014, 1015, 1070, 1110, 1116, 1118, 1124, 1132,\n",
              "        1151, 1155, 1167, 1171, 1172, 1180, 1190, 1194, 1204, 1211, 1214,\n",
              "        1217, 1223, 1231, 1234, 1239, 1246, 1257, 1264, 1269, 1281, 1292,\n",
              "        1294, 1301, 1303, 1316, 1361, 1375, 1388, 1393, 1395, 1405, 1411,\n",
              "        1423, 1427, 1430, 1431, 1434, 1480, 1487, 1518, 1527, 1538, 1539,\n",
              "        1541, 1556, 1566, 1573, 1580, 1582, 1591, 1599]))"
            ]
          },
          "execution_count": 19,
          "metadata": {},
          "output_type": "execute_result"
        }
      ],
      "source": [
        "# choose train test from k-fold\n",
        "\n",
        "kfold = StratifiedKFold(n_splits=10, shuffle=True,random_state=10)\n",
        "train, test = list(kfold.split(compelete_segment.segment,compelete_segment.dummy_y))[5]\n",
        "list(kfold.split(compelete_segment.segment,compelete_segment.dummy_y))[0]"
      ]
    },
    {
      "cell_type": "code",
      "execution_count": null,
      "metadata": {
        "id": "0ArDf32cayHc"
      },
      "outputs": [],
      "source": [
        "train = compelete_segment.segment.loc[train]\n",
        "test = compelete_segment.segment.loc[test]\n",
        "scores_ResNet={\"accuracy\":[],\"precision\":[],\"recall\":[],\"f1\":[],\"confusion_matrix\":[]}"
      ]
    },
    {
      "cell_type": "code",
      "execution_count": null,
      "metadata": {
        "id": "HO5_9c6Da47N"
      },
      "outputs": [],
      "source": [
        "# bulild train and test\n",
        "\n",
        "Y_train = full_data.Y[full_data.segment.isin(list(train)+list(partials.segment))]\n",
        "train_index = full_data.reset_index()[\"index\"][full_data.segment.isin(list(train)+list(partials.segment))]\n",
        "X_train = genereted_images[train_index]\n",
        "\n",
        "Y_test = full_data.Y[full_data.segment.isin(test)]\n",
        "test_index = full_data.reset_index()[\"index\"][full_data.segment.isin(test)]\n",
        "X_test = genereted_images[test_index]\n",
        "\n",
        "Y_train = np.array(Y_train)\n",
        "Y_test = np.array(Y_test)"
      ]
    },
    {
      "cell_type": "markdown",
      "metadata": {
        "id": "9d1H6D2cbBON"
      },
      "source": [
        "## fit the model"
      ]
    },
    {
      "cell_type": "code",
      "execution_count": null,
      "metadata": {
        "colab": {
          "background_save": true,
          "base_uri": "https://localhost:8080/"
        },
        "id": "8ttRn1e_bCxB",
        "outputId": "15350666-455a-4658-9d32-5022f4aa8d55"
      },
      "outputs": [
        {
          "name": "stdout",
          "output_type": "stream",
          "text": [
            "Epoch 1/100\n",
            "213/213 [==============================] - 700s 3s/step - loss: 0.6157 - accuracy: 0.6679 - val_loss: 0.5673 - val_accuracy: 0.7105\n",
            "Epoch 2/100\n",
            "213/213 [==============================] - 700s 3s/step - loss: 0.4959 - accuracy: 0.7550 - val_loss: 0.4177 - val_accuracy: 0.8041\n",
            "Epoch 3/100\n",
            "213/213 [==============================] - 698s 3s/step - loss: 0.4062 - accuracy: 0.8122 - val_loss: 0.3443 - val_accuracy: 0.8458\n",
            "Epoch 4/100\n",
            "213/213 [==============================] - 703s 3s/step - loss: 0.3328 - accuracy: 0.8508 - val_loss: 0.3067 - val_accuracy: 0.8680\n",
            "Epoch 5/100\n",
            "213/213 [==============================] - 699s 3s/step - loss: 0.2928 - accuracy: 0.8743 - val_loss: 0.3233 - val_accuracy: 0.8508\n",
            "Epoch 6/100\n",
            "213/213 [==============================] - 699s 3s/step - loss: 0.2509 - accuracy: 0.8926 - val_loss: 0.2484 - val_accuracy: 0.8928\n",
            "Epoch 7/100\n",
            "213/213 [==============================] - 700s 3s/step - loss: 0.2230 - accuracy: 0.9069 - val_loss: 0.2033 - val_accuracy: 0.9133\n",
            "Epoch 8/100\n",
            "213/213 [==============================] - 693s 3s/step - loss: 0.1841 - accuracy: 0.9246 - val_loss: 0.1889 - val_accuracy: 0.9193\n",
            "Epoch 9/100\n",
            "213/213 [==============================] - 694s 3s/step - loss: 0.1684 - accuracy: 0.9331 - val_loss: 0.1542 - val_accuracy: 0.9381\n",
            "Epoch 10/100\n",
            "213/213 [==============================] - 693s 3s/step - loss: 0.1488 - accuracy: 0.9395 - val_loss: 0.2110 - val_accuracy: 0.9159\n",
            "Epoch 11/100\n",
            "213/213 [==============================] - 690s 3s/step - loss: 0.1311 - accuracy: 0.9476 - val_loss: 0.1529 - val_accuracy: 0.9404\n",
            "Epoch 12/100\n",
            "213/213 [==============================] - 691s 3s/step - loss: 0.1240 - accuracy: 0.9497 - val_loss: 0.1407 - val_accuracy: 0.9378\n",
            "Epoch 13/100\n",
            "200/213 [===========================>..] - ETA: 41s - loss: 0.1038 - accuracy: 0.9590"
          ]
        }
      ],
      "source": [
        "model_ResNet = CNN_model_2(input_shape = (19, 256,3), classes = 2)\n",
        "model_ResNet.compile(optimizer='adam', loss='binary_crossentropy', metrics=['accuracy'])\n",
        "callback = tf.keras.callbacks.EarlyStopping(monitor='val_accuracy', patience=4)\n",
        "X_train, Y_train = shuffle(X_train, Y_train)\n",
        "# Fit the model\n",
        "model_ResNet.fit(X_train, convert_to_one_hot(Y_train,2).T, epochs = 100, batch_size = 128,validation_split=0.1,callbacks=[callback])"
      ]
    },
    {
      "cell_type": "markdown",
      "metadata": {
        "id": "JlJ_ZhcCbMOz"
      },
      "source": [
        "### evaluation"
      ]
    },
    {
      "cell_type": "code",
      "execution_count": null,
      "metadata": {
        "id": "HB6Pyq_wbD2L"
      },
      "outputs": [],
      "source": [
        "# accuracy on images\n",
        "\n",
        "preds = model_ResNet.evaluate(X_test, convert_to_one_hot(Y_test,2).T)\n",
        "print (\"Loss = \" + str(preds[0]))\n",
        "print (\"Test Accuracy = \" + str(preds[1]))"
      ]
    },
    {
      "cell_type": "code",
      "execution_count": null,
      "metadata": {
        "id": "w6bwQspObRkU"
      },
      "outputs": [],
      "source": [
        "# accuracy on segment based\n",
        "\n",
        "Y_data = full_data[[\"segment\",\"Y\"]][full_data.segment.isin(test)]\n",
        "Y_data[\"y_pred\"] = model_ResNet.predict(X_test).argmax(axis=1)\n",
        "Y_data = Y_data.groupby(\"segment\").agg([lambda x:x.value_counts().index[0]]).reset_index()\n",
        "Y_data.columns = [\"segment\",\"Y\",\"y_pred\"]\n",
        "# evaluate the model\n",
        "scores_ResNet[\"accuracy\"].append(metrics.accuracy_score(Y_data.Y,Y_data.y_pred))\n",
        "scores_ResNet[\"confusion_matrix\"].append(metrics.confusion_matrix(Y_data.Y,Y_data.y_pred))\n",
        "scores_ResNet[\"recall\"].append(metrics.recall_score(Y_data.Y,Y_data.y_pred))\n",
        "scores_ResNet[\"precision\"].append(metrics.precision_score(Y_data.Y,Y_data.y_pred))\n",
        "scores_ResNet[\"f1\"].append(metrics.f1_score(Y_data.Y,Y_data.y_pred))"
      ]
    },
    {
      "cell_type": "code",
      "execution_count": null,
      "metadata": {
        "id": "1VKg7sqabYKE"
      },
      "outputs": [],
      "source": [
        "scores_ResNet"
      ]
    },
    {
      "cell_type": "markdown",
      "metadata": {
        "id": "7DqQR0v8cLqB"
      },
      "source": [
        "# Cross Validation for Segment based"
      ]
    },
    {
      "cell_type": "code",
      "execution_count": null,
      "metadata": {
        "id": "O9_-wh4IcKEE"
      },
      "outputs": [],
      "source": [
        "scores_CNN={\"accuracy\":[],\"precision\":[],\"recall\":[],\"f1\":[],\"confusion_matrix\":[]}"
      ]
    },
    {
      "cell_type": "code",
      "execution_count": null,
      "metadata": {
        "id": "hEAtsq6sc2tG"
      },
      "outputs": [],
      "source": [
        "# partial\n",
        "partials = ps.sqldf(\"\"\"\n",
        "            select segment from full_data\n",
        "            group by segment\n",
        "            having count(Y)<{}\n",
        "            \"\"\".format(con))\n",
        "\n",
        "compelete_segment = ps.sqldf(\"\"\"\n",
        "            select segment,0 as dummy_y from full_data\n",
        "            group by segment\n",
        "            having count(Y)>={}\n",
        "            \"\"\".format(con))"
      ]
    },
    {
      "cell_type": "code",
      "execution_count": null,
      "metadata": {
        "id": "vFyzXnU1cXg0"
      },
      "outputs": [],
      "source": [
        "\n",
        "# fix random seed for reproducibility\n",
        "\n",
        "# define 10-fold cross validation test harness\n",
        "kfold = StratifiedKFold(n_splits=10, shuffle=True,random_state=10)\n",
        "\n",
        "\n",
        "for train, test in kfold.split(compelete_segment.segment,compelete_segment.dummy_y):\n",
        "  train = compelete_segment.segment.loc[train]\n",
        "  test = compelete_segment.segment.loc[test]\n",
        "  Y_train = full_data.Y[full_data.segment.isin(list(train)+list(partials.segment))]\n",
        "  train_index = full_data.reset_index()[\"index\"][full_data.segment.isin(list(train)+list(partials.segment))]\n",
        "  X_train = genereted_images[train_index]\n",
        "\n",
        "  Y_test = full_data.Y[full_data.segment.isin(test)]\n",
        "  test_index = full_data.reset_index()[\"index\"][full_data.segment.isin(test)]\n",
        "  X_test = genereted_images[test_index]\n",
        "\n",
        "  Y_train = np.array(Y_train)\n",
        "  Y_test = np.array(Y_test)\n",
        "\t# create model\n",
        "\t# Compile model\n",
        "  model_ResNet = CNN_model_2(input_shape = (19, 256,3), classes = 2)\n",
        "  model_ResNet.compile(optimizer='adam', loss='binary_crossentropy', metrics=['accuracy'])\n",
        "  callback = tf.keras.callbacks.EarlyStopping(monitor='val_accuracy', patience=4)\n",
        "  X_train, Y_train = shuffle(X_train, Y_train)\n",
        "  # Fit the model\n",
        "  model_ResNet.fit(X_train, convert_to_one_hot(Y_train,2).T, epochs = 100, batch_size = 128,validation_split=0.1,callbacks=[callback])\n",
        "\tprint(\"Next Model ------------------------------------------------------------------------------------------------\")\n",
        "  Y_data = full_data[[\"segment\",\"Y\"]][full_data.segment.isin(test)]\n",
        "  Y_data[\"y_pred\"] = model_ResNet.predict(X_test).argmax(axis=1)\n",
        "  Y_data = Y_data.groupby(\"segment\").agg([lambda x:x.value_counts().index[0]]).reset_index()\n",
        "  Y_data.columns = [\"segment\",\"Y\",\"y_pred\"]\n",
        "  # evaluate the model\n",
        "  scores_ResNet[\"accuracy\"].append(metrics.accuracy_score(Y_data.Y,Y_data.y_pred))\n",
        "  scores_ResNet[\"confusion_matrix\"].append(metrics.confusion_matrix(Y_data.Y,Y_data.y_pred))\n",
        "  scores_ResNet[\"recall\"].append(metrics.recall_score(Y_data.Y,Y_data.y_pred))\n",
        "  scores_ResNet[\"precision\"].append(metrics.precision_score(Y_data.Y,Y_data.y_pred))\n",
        "  scores_ResNet[\"f1\"].append(metrics.f1_score(Y_data.Y,Y_data.y_pred))"
      ]
    },
    {
      "cell_type": "code",
      "execution_count": null,
      "metadata": {
        "id": "GjhuAq2r2zwn"
      },
      "outputs": [],
      "source": []
    }
  ],
  "metadata": {
    "colab": {
      "provenance": []
    },
    "kernelspec": {
      "display_name": "Python 3",
      "name": "python3"
    },
    "language_info": {
      "name": "python"
    }
  },
  "nbformat": 4,
  "nbformat_minor": 0
}